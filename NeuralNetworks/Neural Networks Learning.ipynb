{
 "cells": [
  {
   "cell_type": "markdown",
   "metadata": {},
   "source": [
    "## Neural Networks Learning for Digital Image Recognition\n",
    "This project implemented a three layer neural networks for digital image recognition. The networks consists of an input layer, one hidden layer and one output layer. The dataset contains 5000 digit images. Each corresponds to a 20 pixel by 20 pixel grayscale image of the digit (0-9). Each pixel is represented by a floating point number indicating the grayscale intensity at that location. The 20 by 20 grid of pixels have been converted to a 400-dimentional vector. The labels of the images are stored in another txt file, in which digit 0 is label as 10. For all the other digits from 1-9, labels and the digit images are consistent. This digit image dataset was splited into training and test datasets for the training and evaluation of the neural networks built in this project. Prediction accuray on the test dataset was used to evaluate the model. An accuracy of 0.939 was obtained on test dataset, with an optimum l2 lambda value of 1.5"
   ]
  },
  {
   "cell_type": "code",
   "execution_count": 1,
   "metadata": {
    "collapsed": true
   },
   "outputs": [],
   "source": [
    "import numpy as np\n",
    "import pandas as pd\n",
    "import seaborn as sns\n",
    "from scipy import optimize\n",
    "from scipy.special import expit\n",
    "from scipy import ndimage\n",
    "import matplotlib.pyplot as plt\n",
    "%matplotlib inline"
   ]
  },
  {
   "cell_type": "markdown",
   "metadata": {},
   "source": [
    "### Load and Explore Data"
   ]
  },
  {
   "cell_type": "markdown",
   "metadata": {},
   "source": [
    "First, we load the digital image and label data. Since the digit image of 0 is labeled as 10 in the target_y, we convert the number 10 to 0. "
   ]
  },
  {
   "cell_type": "code",
   "execution_count": 2,
   "metadata": {
    "collapsed": true
   },
   "outputs": [],
   "source": [
    "image_X=pd.read_csv(\"ex4data1X.txt\",header=None).values\n",
    "target_y=pd.read_csv(\"ex4dataY.txt\",header=None)\n",
    "\n",
    "target_y=target_y[0]\n",
    "\n",
    "target_y[target_y==10]=0\n"
   ]
  },
  {
   "cell_type": "markdown",
   "metadata": {},
   "source": [
    "Now, we will check the distribution of the label counts. "
   ]
  },
  {
   "cell_type": "code",
   "execution_count": 3,
   "metadata": {},
   "outputs": [
    {
     "data": {
      "text/plain": [
       "7    500\n",
       "3    500\n",
       "6    500\n",
       "2    500\n",
       "9    500\n",
       "5    500\n",
       "1    500\n",
       "8    500\n",
       "4    500\n",
       "0    500\n",
       "Name: 0, dtype: int64"
      ]
     },
     "execution_count": 3,
     "metadata": {},
     "output_type": "execute_result"
    }
   ],
   "source": [
    "target_y.value_counts()"
   ]
  },
  {
   "cell_type": "markdown",
   "metadata": {},
   "source": [
    "We can see that the 9 digit numbers are evenly distributed in the total 5000 images, with each number having 500 images. Now we can check some of the digit images."
   ]
  },
  {
   "cell_type": "markdown",
   "metadata": {},
   "source": [
    "Now, we convert target_y from pandas Series to numpy array for model fitting."
   ]
  },
  {
   "cell_type": "code",
   "execution_count": 4,
   "metadata": {
    "collapsed": true
   },
   "outputs": [],
   "source": [
    "target_y=target_y.values"
   ]
  },
  {
   "cell_type": "markdown",
   "metadata": {},
   "source": [
    "Let's check some of the digit images stored in image_X:"
   ]
  },
  {
   "cell_type": "code",
   "execution_count": 5,
   "metadata": {},
   "outputs": [
    {
     "data": {
      "image/png": "[encoded data removed]",
      "text/plain": [
       "<matplotlib.figure.Figure at 0x7efe82060668>"
      ]
     },
     "metadata": {},
     "output_type": "display_data"
    }
   ],
   "source": [
    "fig, ax=plt.subplots(nrows=2,ncols=5,sharex=True,sharey=True)\n",
    "ax=ax.flatten()\n",
    "for i in range(10):\n",
    "    img=image_X[target_y==i,:][0].reshape(20,20).T\n",
    "    #img=ndimage.rotate(img,-90)\n",
    "    ax[i].imshow(img,cmap=\"Greys\",interpolation=\"nearest\")\n",
    "    \n",
    "ax[0].set_xticks([])\n",
    "ax[0].set_yticks([])\n",
    "plt.tight_layout()    "
   ]
  },
  {
   "cell_type": "markdown",
   "metadata": {},
   "source": [
    "It woruld be interesing to see the different styles of the same digit number. Let' check the different styles for digit number 9:"
   ]
  },
  {
   "cell_type": "code",
   "execution_count": 6,
   "metadata": {},
   "outputs": [
    {
     "data": {
      "image/png": "[encoded data removed]",
      "text/plain": [
       "<matplotlib.figure.Figure at 0x7efe81c02080>"
      ]
     },
     "metadata": {},
     "output_type": "display_data"
    }
   ],
   "source": [
    "fig, ax=plt.subplots(nrows=2,ncols=5,sharex=True,sharey=True)\n",
    "ax=ax.flatten()\n",
    "for i in range(10):\n",
    "    img=image_X[target_y==9,:][i].reshape(20,20).T\n",
    "    ax[i].imshow(img,cmap=\"Greys\",interpolation=\"nearest\")\n",
    "    \n",
    "ax[0].set_xticks([])\n",
    "ax[0].set_yticks([])\n",
    "plt.tight_layout()      "
   ]
  },
  {
   "cell_type": "markdown",
   "metadata": {},
   "source": [
    "### Implementation of Neural Networks"
   ]
  },
  {
   "cell_type": "markdown",
   "metadata": {},
   "source": [
    "In this section, we will implement a simple nerual networks using the feedforward and backpropagation algorithms. Below is a very concise explanation of functions implemented in the model. For the details of the derivation of the equations and algorithm implementation considerations, please refer to the [Neural Networks Learning]( http://htmlpreview.github.io/?https://github.com/yuanDataScience/Machine_Learning_R/blob/master/NeuralNetworksLearning/Neural_Networks_Learning.nb.html) project in my github.\n",
    "It should be noted that the purpose of this project is to help people to understand the feed forward and back propagation algorithms. Therefore, the implementation is very slow when training large nerual networks and large datasets. The model can not be used for big datasets such as the MNIST digital image datasets.  "
   ]
  },
  {
   "cell_type": "markdown",
   "metadata": {},
   "source": [
    "The neural networks model implemented the following functions:\n",
    "    1. __init__(): function that initializes an instance of a neural networks model, and defines the network structure and hyperparameter (lmd for the l2 regularization)\n",
    "    2. _costCompute() and _gradCompute(): functions that calculate the cost and gradient of weight parameters using feed forward and back propagation alogrithms, respectively\n",
    "    3. _randomInitializeWeights(): function that generates the initial networks paramters based on uniform distribution\n",
    "    4 _debugInitializeWeights(): This function is used for testing and debugging. Given the numbers of neurons in the neighboring two layers, the function generates simulated weight parameters connecting the two layers using sine function. By using this function, we can establish small size simulated neural networks containing only a few neurons in each layer with the corresponding weight parameters. Network weight gradients calculated by back propagation and numeric methods for this simulated neural networks can be compared to check if the back propagation algorithm is properly implemented. \n",
    "    5. _computeNumericGrad(): This function calculates the gradient using the numerical method by introducing a small disturbance to each weight parameter and calculates the diffence in cost function divided by the magnitude of the disturbance. It can only be used on small neural network. It is used in this project to check if the back propagation algorithm is properly implemented.\n",
    "    6. checkNNGradients(): This function creates a small, simulated neural networks using __debugInitializeWeights(), and compares the gradient of weight parameters obtained by numerical and back propagration algorithms.\n",
    "    7. fit(): trains the neural networks by optimizing the weight parameters using the training dataset\n",
    "    8. predict(): predicts the target variables using the trained neural networks model."
   ]
  },
  {
   "cell_type": "code",
   "execution_count": 8,
   "metadata": {
    "collapsed": true
   },
   "outputs": [],
   "source": [
    "from sklearn.base import BaseEstimator, ClassifierMixin\n",
    "class ann(BaseEstimator,ClassifierMixin):\n",
    "    def __init__(self,lmd=1,input_layer_size=400,hidden_layer_size=25,number_labels=10):\n",
    "        self.lmd=float(lmd)\n",
    "        self.input_layer_size=input_layer_size\n",
    "        self.hidden_layer_size=hidden_layer_size\n",
    "        self.number_labels=number_labels\n",
    "        \n",
    "    def _costCompute(self,theta,X,y):\n",
    "        '''\n",
    "        This function calculates the cost function based on the feed forward algorithm\n",
    "        input\n",
    "           theta: vector including network parameters from input to hidden, and from hidden to output layer\n",
    "           X: feaature matrix, exclusive of the intercept\n",
    "           y: target variable vector\n",
    "           \n",
    "        output\n",
    "           The cost of the output layer calculated by feedforward algorithm\n",
    "        '''\n",
    "        # get the sizes of the parameters from input to hidden layer (t1_element)\n",
    "        t1_element=(self.input_layer_size+1)*self.hidden_layer_size \n",
    "        t2_start_idx=t1_element\n",
    "        num_obs=X.shape[0]\n",
    "        \n",
    "        t1=theta[:t1_element].reshape((self.hidden_layer_size,-1)) #hidden_layer_size * input_layer_size+1\n",
    "        t2=theta[t2_start_idx:].reshape((self.number_labels,-1)) #number_labels * hidden_layer_size+1\n",
    "        \n",
    "        intercept=np.ones((num_obs,1))\n",
    "        X=np.hstack((intercept,X))\n",
    "        h=expit(np.hstack((intercept,expit(X.dot(t1.T)))).dot(t2.T))\n",
    "        \n",
    "        onehot=np.zeros((num_obs,self.number_labels))\n",
    "        for idx, label in enumerate(y):\n",
    "            onehot[idx,label]=1.0\n",
    "            \n",
    "        lld=onehot*np.log(h)+(1-onehot)*np.log(1-h)    \n",
    "            \n",
    "        return -1.0/num_obs*lld.sum() +0.5*(self.lmd/num_obs)*((t1[:,1:]*t1[:,1:]).sum()+(t2[:,1:]*t2[:,1:]).sum())\n",
    "    \n",
    "    def _gradCompute(self,theta,X,y):\n",
    "        '''\n",
    "        This function calculates the gradient of weight parameters, theta, using back propogation algorithm\n",
    "        input\n",
    "           theta: vector including network parameters from input to hidden, and from hidden to output layer\n",
    "           input_layer_size: the number of features in input matrix\n",
    "           hidden_layer_size: the number of nodes in the hidden layer\n",
    "           number_labels: the number of the labels, in this project is 10. This also equals the number of output layer nodes\n",
    "           X: feaature matrix, exclusive of the intercept\n",
    "           y: target variable vector\n",
    "           lmd: lambda hyper-parameter defining regularization\n",
    "        output\n",
    "           The gradient of network parameters as a vector\n",
    "        '''\n",
    "        t1_element=(self.input_layer_size+1)*self.hidden_layer_size\n",
    "        t2_start_idx=t1_element\n",
    "        \n",
    "        num_obs=X.shape[0]\n",
    "       \n",
    "        t1=theta[:t1_element].reshape((self.hidden_layer_size,-1)) # hidden_layer_size*input_layer_size+1\n",
    "        t2=theta[t2_start_idx:].reshape((self.number_labels,-1)) #number_labers*(hidden_layer_size+1)\n",
    "        onehot=np.zeros((num_obs,self.number_labels))\n",
    "        for idx, label in enumerate(y):\n",
    "            onehot[idx,label]=1.0\n",
    "            \n",
    "        intercept=np.ones((num_obs,1))\n",
    "        X=np.hstack((intercept,X))\n",
    "        \n",
    "        X_middle_pred=expit(X.dot(t1.T)) # num_obs*hidden_layer_size prediction\n",
    "        \n",
    "        output_layer=expit(np.hstack((intercept,X_middle_pred)).dot(t2.T)) #num_obs*number_label\n",
    "        delta_output_layer=output_layer-onehot #num_obs*number_label\n",
    "        \n",
    "        \n",
    "        error_transfer_middle=delta_output_layer.dot(t2[:,1:]) #num_obs*hidden_layer_size\n",
    "        delta_middle=error_transfer_middle*X_middle_pred*(1-X_middle_pred) #num_obs*hidden_layer_size\n",
    "        \n",
    "        grad_t2=(1.0/num_obs)*delta_output_layer.T.dot(np.hstack((intercept,X_middle_pred)))\n",
    "        grad_t2[:,1:]+=(self.lmd/num_obs)*t2[:,1:]\n",
    "        \n",
    "        grad_t1=(1.0/num_obs)*delta_middle.T.dot(X)\n",
    "        grad_t1[:,1:]+=(self.lmd/num_obs)*t1[:,1:]\n",
    "        \n",
    "        return np.concatenate((grad_t1.ravel(),grad_t2.ravel()))\n",
    "       \n",
    "    \n",
    "    \n",
    "    def _randInitializeWeights(self,L_in, L_out):\n",
    "        '''\n",
    "        This function initialize the weight parameters connecting two neighboring layers\n",
    "        , given the number of nodes in input and outpur layers. \n",
    "        '''\n",
    "        epsilon_init=0.12\n",
    "        w=(np.random.uniform(size=(L_in+1)*L_out)*epsilon_init*2-epsilon_init).reshape((L_out,L_in+1))\n",
    "        return(w)\n",
    "    \n",
    "    def _computeNumericGrad(self,theta,X, y):\n",
    "        '''\n",
    "        This function calculates the gradient of weight parameters, theta, using numeric difference in the cost function,\n",
    "        given very small change (1e-4) in each weight parameter. This function is used to check if _gradCompute() function\n",
    "        is correctly implemented.\n",
    "        input\n",
    "           theta: vector including network parameters from input to hidden, and from hidden to output layer\n",
    "           input_layer_size: the number of features in input matrix\n",
    "           hidden_layer_size: the number of nodes in the hidden layer\n",
    "           number_labels: the number of the labels, in this project is 10. This also equals the number of output layer nodes\n",
    "           X: feaature matrix, exclusive of the intercept\n",
    "           y: target variable vector\n",
    "           lmd: lambda hyper-parameter defining regularization\n",
    "        output\n",
    "           The gradient of network parameters as a vector\n",
    "        '''\n",
    "        para_size=len(theta)\n",
    "        e=1e-4\n",
    "        num_grad=np.zeros(para_size)\n",
    "        disturb=np.zeros(para_size)\n",
    "        for idx in range(para_size):\n",
    "            disturb[idx]=e\n",
    "            loss1=self._costCompute(theta-disturb,X,y)\n",
    "            loss2=self._costCompute(theta+disturb,X,y)\n",
    "            num_grad[idx]=(loss2-loss1)/(2*e)\n",
    "            disturb[idx]=0.0\n",
    "            \n",
    "        return num_grad\n",
    "    \n",
    "    def _debugInitializeWeights(self,fout,fin):\n",
    "        '''\n",
    "        This function is used for debugging. It is used in this project to check if the _gradCompute() function\n",
    "        is correctly implemented using the network weight parameters generated by this function.\n",
    "        \n",
    "        This function generates the simulated network weight parameters, given the numbers of nodes \n",
    "        in input and output layers of the neighboring layers using sine function. As a result, for\n",
    "        every neighboring layers in the network with a fixed numbers of input and output layer nodes,\n",
    "        the function will generate the corresponding simulated weight paramters connecting these two layers.\n",
    "        \n",
    "        input\n",
    "           fout: the number of nodes in the output layer of the two neighboring layers\n",
    "           fin: the number of nodes in the input layer of the two neighboring layers.\n",
    "        \n",
    "        '''\n",
    "        total_element=fout*(fin+1)\n",
    "        w=np.sin(np.arange(1,total_element+1)).reshape((fout,fin+1))\n",
    "        return w\n",
    "        \n",
    "    \n",
    "    def checkNNGradients(self,lmd=0):\n",
    "        '''\n",
    "        This function checks if the gradient of weight parameters are correctly calcualted by _gradCompute() function by\n",
    "        comparing the networks weight parameter gradient obtained using numeric method (_computeNumericGrad) and \n",
    "        back propogation algorithm (_gradCompute()) using a small simulated neural network and input data generated by \n",
    "        _debugInitializedWeights() function.\n",
    "        \n",
    "        input\n",
    "           lmd: lambda value for regularized logistic regression\n",
    "           \n",
    "        output:\n",
    "            prints normalized difference between the gradient calculated by numerica and back propogation algorithms.\n",
    "            returns the gradients calculated by the two algorithms as pandas dataframe.\n",
    "        \n",
    "        '''\n",
    "        self.lmd=float(lmd)\n",
    "        self.input_layer_size=3\n",
    "        self.hidden_layer_size=5\n",
    "        self.number_labels=3\n",
    "        m=5\n",
    "        \n",
    "        Theta1=self._debugInitializeWeights(self.hidden_layer_size,self.input_layer_size)\n",
    "        Theta2=self._debugInitializeWeights(self.number_labels,self.hidden_layer_size)\n",
    "        \n",
    "        feature_X=self._debugInitializeWeights(m,self.input_layer_size-1)\n",
    "        target_y=np.arange(m)%self.number_labels\n",
    "        \n",
    "        nnpara=np.concatenate((Theta1.ravel(),Theta2.ravel()))\n",
    "        numgrad=self._computeNumericGrad(nnpara,feature_X, target_y)\n",
    "        grad=self._gradCompute(nnpara,feature_X,target_y)\n",
    "        \n",
    "        diff=numgrad-grad\n",
    "        total=numgrad+grad\n",
    "        \n",
    "        norm_diff=np.sqrt(diff.dot(diff)/total.dot(total))\n",
    "        print(\"the normal of the difference is \",norm_diff, \"\\n\")\n",
    "        return pd.DataFrame({'numgrad':numgrad,'grad':grad})\n",
    "        \n",
    "       \n",
    "    def fit(self,X,y):\n",
    "        '''\n",
    "        This function trains the neural netwok by finding the optimum network weight parameters using the cost and gradient\n",
    "        functions, and the cg min algorithm implemented by scipy.optimize package\n",
    "        \n",
    "        input\n",
    "          X: feature matrix of the training dataset\n",
    "          y:target variable vector of the training dataset\n",
    "          \n",
    "        output\n",
    "           the optimum network weight parameters trained by traning data\n",
    "        '''\n",
    "        \n",
    "        theta1=self._randInitializeWeights(self.input_layer_size, self.hidden_layer_size)\n",
    "        theta2=self._randInitializeWeights(self.hidden_layer_size,self.number_labels)\n",
    "        theta=np.concatenate((theta1.ravel(),theta2.ravel()))\n",
    "        theta1_size=(self.input_layer_size+1)*self.hidden_layer_size\n",
    "                \n",
    "        rs=optimize.minimize(fun=self._costCompute, x0=theta, args=(X, y),method='CG',jac=self._gradCompute)\n",
    "        if rs.success:\n",
    "            self.theta1=rs.x[:theta1_size].reshape((self.hidden_layer_size,self.input_layer_size+1))\n",
    "            self.theta2=rs.x[theta1_size:].reshape(self.number_labels,self.hidden_layer_size+1)\n",
    "        return self\n",
    "    \n",
    "    def predict(self,new_X):\n",
    "        '''\n",
    "        This function predicts the new observations using the training neural network\n",
    "        \n",
    "        input\n",
    "           new_X: feature matrix for new predictios\n",
    "        \n",
    "        output\n",
    "           the vector of the target variables predicted by the neural network\n",
    "        '''\n",
    "        num_obs=new_X.shape[0]        \n",
    "        intercept=np.ones((num_obs,1))\n",
    "        new_X=np.hstack((intercept,new_X))\n",
    "        \n",
    "        h=expit(np.hstack((intercept,expit(new_X.dot(self.theta1.T)))).dot(self.theta2.T))\n",
    "        return np.argmax(h,axis=1) "
   ]
  },
  {
   "cell_type": "markdown",
   "metadata": {},
   "source": [
    "We check if the gradient calculation function is correctly implemented by the checkNNGradients() function. This function creates a small simulated network containing 3, 5 and 3 neurons in the input, hidden and output layers, respectively. It also generates a small training dataset containing 5 observations. The function compares the gradient calculated by numerical and back propagation algorithms based on the simulated network and training dataset."
   ]
  },
  {
   "cell_type": "code",
   "execution_count": 9,
   "metadata": {},
   "outputs": [
    {
     "name": "stdout",
     "output_type": "stream",
     "text": [
      "the normal of the difference is  4.7829618344e-11 \n",
      "\n"
     ]
    },
    {
     "data": {
      "text/html": [
       "<div>\n",
       "<style>\n",
       "    .dataframe thead tr:only-child th {\n",
       "        text-align: right;\n",
       "    }\n",
       "\n",
       "    .dataframe thead th {\n",
       "        text-align: left;\n",
       "    }\n",
       "\n",
       "    .dataframe tbody tr th {\n",
       "        vertical-align: top;\n",
       "    }\n",
       "</style>\n",
       "<table border=\"1\" class=\"dataframe\">\n",
       "  <thead>\n",
       "    <tr style=\"text-align: right;\">\n",
       "      <th></th>\n",
       "      <th>grad</th>\n",
       "      <th>numgrad</th>\n",
       "    </tr>\n",
       "  </thead>\n",
       "  <tbody>\n",
       "    <tr>\n",
       "      <th>0</th>\n",
       "      <td>0.155567</td>\n",
       "      <td>0.155567</td>\n",
       "    </tr>\n",
       "    <tr>\n",
       "      <th>1</th>\n",
       "      <td>0.552258</td>\n",
       "      <td>0.552258</td>\n",
       "    </tr>\n",
       "    <tr>\n",
       "      <th>2</th>\n",
       "      <td>0.096990</td>\n",
       "      <td>0.096990</td>\n",
       "    </tr>\n",
       "    <tr>\n",
       "      <th>3</th>\n",
       "      <td>-0.447450</td>\n",
       "      <td>-0.447450</td>\n",
       "    </tr>\n",
       "    <tr>\n",
       "      <th>4</th>\n",
       "      <td>0.068618</td>\n",
       "      <td>0.068618</td>\n",
       "    </tr>\n",
       "    <tr>\n",
       "      <th>5</th>\n",
       "      <td>-0.146390</td>\n",
       "      <td>-0.146390</td>\n",
       "    </tr>\n",
       "    <tr>\n",
       "      <th>6</th>\n",
       "      <td>0.420729</td>\n",
       "      <td>0.420729</td>\n",
       "    </tr>\n",
       "    <tr>\n",
       "      <th>7</th>\n",
       "      <td>0.601031</td>\n",
       "      <td>0.601031</td>\n",
       "    </tr>\n",
       "    <tr>\n",
       "      <th>8</th>\n",
       "      <td>-0.063594</td>\n",
       "      <td>-0.063594</td>\n",
       "    </tr>\n",
       "    <tr>\n",
       "      <th>9</th>\n",
       "      <td>-0.349509</td>\n",
       "      <td>-0.349509</td>\n",
       "    </tr>\n",
       "    <tr>\n",
       "      <th>10</th>\n",
       "      <td>-0.637875</td>\n",
       "      <td>-0.637875</td>\n",
       "    </tr>\n",
       "    <tr>\n",
       "      <th>11</th>\n",
       "      <td>-0.339782</td>\n",
       "      <td>-0.339782</td>\n",
       "    </tr>\n",
       "    <tr>\n",
       "      <th>12</th>\n",
       "      <td>-0.136126</td>\n",
       "      <td>-0.136126</td>\n",
       "    </tr>\n",
       "    <tr>\n",
       "      <th>13</th>\n",
       "      <td>0.590879</td>\n",
       "      <td>0.590879</td>\n",
       "    </tr>\n",
       "    <tr>\n",
       "      <th>14</th>\n",
       "      <td>0.384103</td>\n",
       "      <td>0.384103</td>\n",
       "    </tr>\n",
       "    <tr>\n",
       "      <th>15</th>\n",
       "      <td>-0.175816</td>\n",
       "      <td>-0.175816</td>\n",
       "    </tr>\n",
       "    <tr>\n",
       "      <th>16</th>\n",
       "      <td>-0.090363</td>\n",
       "      <td>-0.090363</td>\n",
       "    </tr>\n",
       "    <tr>\n",
       "      <th>17</th>\n",
       "      <td>-0.459059</td>\n",
       "      <td>-0.459059</td>\n",
       "    </tr>\n",
       "    <tr>\n",
       "      <th>18</th>\n",
       "      <td>0.079808</td>\n",
       "      <td>0.079808</td>\n",
       "    </tr>\n",
       "    <tr>\n",
       "      <th>19</th>\n",
       "      <td>0.545300</td>\n",
       "      <td>0.545300</td>\n",
       "    </tr>\n",
       "    <tr>\n",
       "      <th>20</th>\n",
       "      <td>0.216549</td>\n",
       "      <td>0.216549</td>\n",
       "    </tr>\n",
       "    <tr>\n",
       "      <th>21</th>\n",
       "      <td>0.685713</td>\n",
       "      <td>0.685713</td>\n",
       "    </tr>\n",
       "    <tr>\n",
       "      <th>22</th>\n",
       "      <td>0.196381</td>\n",
       "      <td>0.196381</td>\n",
       "    </tr>\n",
       "    <tr>\n",
       "      <th>23</th>\n",
       "      <td>-0.381906</td>\n",
       "      <td>-0.381906</td>\n",
       "    </tr>\n",
       "    <tr>\n",
       "      <th>24</th>\n",
       "      <td>-0.426827</td>\n",
       "      <td>-0.426827</td>\n",
       "    </tr>\n",
       "    <tr>\n",
       "      <th>25</th>\n",
       "      <td>-0.082795</td>\n",
       "      <td>-0.082795</td>\n",
       "    </tr>\n",
       "    <tr>\n",
       "      <th>26</th>\n",
       "      <td>0.210130</td>\n",
       "      <td>0.210130</td>\n",
       "    </tr>\n",
       "    <tr>\n",
       "      <th>27</th>\n",
       "      <td>0.773193</td>\n",
       "      <td>0.773193</td>\n",
       "    </tr>\n",
       "    <tr>\n",
       "      <th>28</th>\n",
       "      <td>0.314249</td>\n",
       "      <td>0.314249</td>\n",
       "    </tr>\n",
       "    <tr>\n",
       "      <th>29</th>\n",
       "      <td>-0.249433</td>\n",
       "      <td>-0.249433</td>\n",
       "    </tr>\n",
       "    <tr>\n",
       "      <th>30</th>\n",
       "      <td>-0.430911</td>\n",
       "      <td>-0.430911</td>\n",
       "    </tr>\n",
       "    <tr>\n",
       "      <th>31</th>\n",
       "      <td>-0.286789</td>\n",
       "      <td>-0.286789</td>\n",
       "    </tr>\n",
       "    <tr>\n",
       "      <th>32</th>\n",
       "      <td>0.395064</td>\n",
       "      <td>0.395064</td>\n",
       "    </tr>\n",
       "    <tr>\n",
       "      <th>33</th>\n",
       "      <td>0.859114</td>\n",
       "      <td>0.859114</td>\n",
       "    </tr>\n",
       "    <tr>\n",
       "      <th>34</th>\n",
       "      <td>0.497964</td>\n",
       "      <td>0.497964</td>\n",
       "    </tr>\n",
       "    <tr>\n",
       "      <th>35</th>\n",
       "      <td>0.073752</td>\n",
       "      <td>0.073752</td>\n",
       "    </tr>\n",
       "    <tr>\n",
       "      <th>36</th>\n",
       "      <td>-0.369390</td>\n",
       "      <td>-0.369390</td>\n",
       "    </tr>\n",
       "    <tr>\n",
       "      <th>37</th>\n",
       "      <td>-0.340111</td>\n",
       "      <td>-0.340111</td>\n",
       "    </tr>\n",
       "  </tbody>\n",
       "</table>\n",
       "</div>"
      ],
      "text/plain": [
       "        grad   numgrad\n",
       "0   0.155567  0.155567\n",
       "1   0.552258  0.552258\n",
       "2   0.096990  0.096990\n",
       "3  -0.447450 -0.447450\n",
       "4   0.068618  0.068618\n",
       "5  -0.146390 -0.146390\n",
       "6   0.420729  0.420729\n",
       "7   0.601031  0.601031\n",
       "8  -0.063594 -0.063594\n",
       "9  -0.349509 -0.349509\n",
       "10 -0.637875 -0.637875\n",
       "11 -0.339782 -0.339782\n",
       "12 -0.136126 -0.136126\n",
       "13  0.590879  0.590879\n",
       "14  0.384103  0.384103\n",
       "15 -0.175816 -0.175816\n",
       "16 -0.090363 -0.090363\n",
       "17 -0.459059 -0.459059\n",
       "18  0.079808  0.079808\n",
       "19  0.545300  0.545300\n",
       "20  0.216549  0.216549\n",
       "21  0.685713  0.685713\n",
       "22  0.196381  0.196381\n",
       "23 -0.381906 -0.381906\n",
       "24 -0.426827 -0.426827\n",
       "25 -0.082795 -0.082795\n",
       "26  0.210130  0.210130\n",
       "27  0.773193  0.773193\n",
       "28  0.314249  0.314249\n",
       "29 -0.249433 -0.249433\n",
       "30 -0.430911 -0.430911\n",
       "31 -0.286789 -0.286789\n",
       "32  0.395064  0.395064\n",
       "33  0.859114  0.859114\n",
       "34  0.497964  0.497964\n",
       "35  0.073752  0.073752\n",
       "36 -0.369390 -0.369390\n",
       "37 -0.340111 -0.340111"
      ]
     },
     "execution_count": 9,
     "metadata": {},
     "output_type": "execute_result"
    }
   ],
   "source": [
    "Ann=ann()\n",
    "Ann.checkNNGradients(lmd=3)"
   ]
  },
  {
   "cell_type": "markdown",
   "metadata": {},
   "source": [
    "Results showed a very small normalized difference. In addition, comparing the columns of the gradients calculated by back propagation and numerical methods we can see the numbers are very close to each other. Therefore, we are confident that the back propagation algorithm was correctly implemented.\n",
    "Next, we will instantiate a neural network model object and train the model using the training dataset. The networks contains an input layer, which contains 400 nodes, corresponding to 400 features of each digit image in the training datase. In addition, the network contains a hidden layer with 25 nodes, and an output layer containing 10 nodes corresponding to the 10 unique digit numbers as the output. In this implementation, one-vs-all strategy was used by assigning the digit number with the highest output to the observation. "
   ]
  },
  {
   "cell_type": "code",
   "execution_count": 10,
   "metadata": {
    "collapsed": true
   },
   "outputs": [],
   "source": [
    "ann1=ann()"
   ]
  },
  {
   "cell_type": "markdown",
   "metadata": {},
   "source": [
    "We splitted the dataset to train and test datasets using train_test_split function in sklearn, trained the model using training dataset, and then used the prediction accuracy of test dataset to evaluate the model performance."
   ]
  },
  {
   "cell_type": "code",
   "execution_count": 12,
   "metadata": {
    "collapsed": true
   },
   "outputs": [],
   "source": [
    "from sklearn.model_selection import train_test_split\n",
    "X_train,X_test,y_train,y_test=train_test_split(image_X,target_y,test_size=0.3, random_state=1)"
   ]
  },
  {
   "cell_type": "code",
   "execution_count": 13,
   "metadata": {},
   "outputs": [
    {
     "data": {
      "text/plain": [
       "ann(hidden_layer_size=25, input_layer_size=400, lmd=1.0, number_labels=10)"
      ]
     },
     "execution_count": 13,
     "metadata": {},
     "output_type": "execute_result"
    }
   ],
   "source": [
    "ann1.fit(X_train,y_train)"
   ]
  },
  {
   "cell_type": "code",
   "execution_count": 14,
   "metadata": {},
   "outputs": [
    {
     "name": "stdout",
     "output_type": "stream",
     "text": [
      "the test dataset accuracy is  0.931333333333\n",
      "the training dataset accuracy is  0.996\n"
     ]
    }
   ],
   "source": [
    "y_pred=ann1.predict(X_test)\n",
    "\n",
    "print(\"the test dataset accuracy is \", np.mean(y_pred==y_test))\n",
    "print(\"the training dataset accuracy is \",np.mean(ann1.predict(X_train)==y_train))"
   ]
  },
  {
   "cell_type": "markdown",
   "metadata": {
    "collapsed": true
   },
   "source": [
    "It seems that the training dataset has a higher accuracy than test dataset. Therefore, the model might be over-fitted. we will check if we can optimize the lambda hyper-parameter by increasing the lmd value:"
   ]
  },
  {
   "cell_type": "code",
   "execution_count": 15,
   "metadata": {},
   "outputs": [
    {
     "name": "stdout",
     "output_type": "stream",
     "text": [
      "the best accuracy result:  0.939333333333\n"
     ]
    }
   ],
   "source": [
    "accuracy_result=[]\n",
    "for lmdpara in [1.5,2.0,2.5]:\n",
    "    ann_opt=ann(lmd=lmdpara)\n",
    "    ann_opt.fit(X_train,y_train)\n",
    "    accuracy_result.append(np.mean(ann_opt.predict(X_test)==y_test))\n",
    "    \n",
    "print(\"the best accuracy result: \",accuracy_result[np.argmax(accuracy_result)])     \n",
    "    \n",
    "    "
   ]
  },
  {
   "cell_type": "code",
   "execution_count": 16,
   "metadata": {},
   "outputs": [
    {
     "data": {
      "text/plain": [
       "[0.93933333333333335, 0.93200000000000005, 0.92733333333333334]"
      ]
     },
     "execution_count": 16,
     "metadata": {},
     "output_type": "execute_result"
    }
   ],
   "source": [
    "accuracy_result"
   ]
  },
  {
   "cell_type": "markdown",
   "metadata": {},
   "source": [
    "The test dataset accuracy inceased from 0.931 to 0.939 when lmd value increased from 1.0 to 1.5. We then checked the other lmd values in the range between 1.0 and 2.0."
   ]
  },
  {
   "cell_type": "code",
   "execution_count": 17,
   "metadata": {},
   "outputs": [
    {
     "name": "stdout",
     "output_type": "stream",
     "text": [
      "the best accuracy result:  0.936\n"
     ]
    }
   ],
   "source": [
    "accuracy_result1=[]\n",
    "for lmdpara in [1.1,1.2,1.3,1.4,1.6,1.7,1.8,1.9]:\n",
    "    ann_opt=ann(lmd=lmdpara)\n",
    "    ann_opt.fit(X_train,y_train)\n",
    "    accuracy_result1.append(np.mean(ann_opt.predict(X_test)==y_test))\n",
    "    \n",
    "print(\"the best accuracy result: \",accuracy_result1[np.argmax(accuracy_result1)])     \n",
    "    \n",
    "    "
   ]
  },
  {
   "cell_type": "markdown",
   "metadata": {},
   "source": [
    "Results showed that the best result was obtained when lmd=1.5, corresponding to a test dataset accuracy of 0.939. "
   ]
  },
  {
   "cell_type": "markdown",
   "metadata": {},
   "source": [
    "Conclusions: A neural networks model that implemented feed forward and back propagation algorithms was applied to the digit image recoginition. Network weight parameters were optimized using CG min function of Scipy package. In addition, the implementation included functions to check the implementation of back propagation algorithm by comparing the weight gradient vectors calculated by numerical method and back propagation algorithm using a small, simulated network structure. An acurracy of 93.39% based on test dataset was obtained at the optimimum l2 lambda value of 1.5  "
   ]
  }
 ],
 "metadata": {
  "celltoolbar": "Edit Metadata",
  "kernelspec": {
   "display_name": "Python 2",
   "language": "python",
   "name": "python2"
  },
  "language_info": {
   "codemirror_mode": {
    "name": "ipython",
    "version": 2
   },
   "file_extension": ".py",
   "mimetype": "text/x-python",
   "name": "python",
   "nbconvert_exporter": "python",
   "pygments_lexer": "ipython2",
   "version": "2.7.13"
  }
 },
 "nbformat": 4,
 "nbformat_minor": 2
}
