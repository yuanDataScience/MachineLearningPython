{
 "cells": [
  {
   "cell_type": "markdown",
   "metadata": {},
   "source": [
    "# K-Mean Algorithm by Numpy\n",
    "Author Yuan Huang\n",
    "\n",
    "This notebook implemented K-mean algorithm using numpy and scipy.spatial.distance packages. The notebook also investigated and compared the clustering of 3 different cases where the data points in each cluster on the two dimensional space are: non-correlated (spherically distributed), correlated to some extent, and highly correlated, respectively. Results showed that K-Mean is effective for spherically distributed data, but for non-spherical distributed data, it misclassified many data points. Actually, this is one of the limitations of K-mean: it is sensitive to the distributions of the data poitns in clusters. \n",
    "\n",
    "In this notebook, K-mean algorithm is implemented as the following: the algorithm first initialized cluster centers by randomly sampling k observations, where k is the number of clusters, from the feature matrix, then cluster the observations using the following two steps:\n",
    "1. assign each observations to the closest center\n",
    "2. redefine centers by averaging the features of all the observations assigned to each center\n",
    "\n",
    "First, import numpy, scipy.spatial.distanceand and random packages"
   ]
  },
  {
   "cell_type": "code",
   "execution_count": 2,
   "metadata": {},
   "outputs": [],
   "source": [
    "import numpy as np\n",
    "import pandas as pd\n",
    "import random\n",
    "from scipy.spatial.distance import cdist\n",
    "import matplotlib.pyplot as plt\n",
    "%matplotlib inline"
   ]
  },
  {
   "cell_type": "markdown",
   "metadata": {},
   "source": [
    "The following are several import functions I used in this notebook:\n",
    "1. random.sample(size, n): This function randomly select n unique numbers in the range between 1 and size. I used this function to randomly select k centers from the entire feature matrix observations.\n",
    "2. cdist(arr1,arr2) returns a matrix with a dimension of len(arr1) times len(arr2). Element[i][j] corresponds to the distance between the ith element in arr1 and jth element in arr2.\n",
    "3. norm(x,y): returns the euclidean distance between x and y"
   ]
  },
  {
   "cell_type": "code",
   "execution_count": 101,
   "metadata": {},
   "outputs": [],
   "source": [
    "import numpy as np\n",
    "from scipy.spatial.distance import cdist\n",
    "from numpy.linalg import norm\n",
    "import random as rm\n",
    "\n",
    "class k_means(object):\n",
    "    def __init__(self,k=2,esp=1e-5):\n",
    "        \"\"\"\n",
    "        This function initialize the k centers by\n",
    "        randomly sampling k observations from the feature matrix\n",
    "        \n",
    "        Inputs:\n",
    "          k: number of clusters\n",
    "          esp: the precision required for converge\n",
    "        \"\"\"\n",
    "        self.centers=None\n",
    "        self.k=k\n",
    "        self.esp=esp\n",
    "        \n",
    "    def fit(self,X, iters=500):\n",
    "        \"\"\"\n",
    "        This function fit the feature matrix usign K-mean algorithm.\n",
    "        Define the cluster centers and assign each observation to \n",
    "        one of the k clusters.\n",
    "        \n",
    "        Inputs:\n",
    "          X: feature matrix. \n",
    "          iters: the maximum number of iterations\n",
    "        Outputs:\n",
    "          set the cluster centers as self.centers\n",
    "          and return the cluster labels as a vector\n",
    "        \"\"\"\n",
    "        \n",
    "        # convert X matrix to np.ndarray\n",
    "        if not isinstance(X,np.ndarray):\n",
    "            X=np.array(X)\n",
    "            \n",
    "        #randomly select k observations as the initial centers    \n",
    "        self.centers=X[rm.sample(range(X.shape[0]),self.k)]\n",
    "        \n",
    "        # initialize flag, label and iter_time for the following iteration loop\n",
    "        flag=True\n",
    "        label=None\n",
    "        iter_time=0\n",
    "        \n",
    "        \n",
    "        # repeating loop if cluster centers are not converged,\n",
    "        # and the number of iterations < iters. Otherwise, break the loop\n",
    "        # and return the labels\n",
    "        \n",
    "        while flag and iter_time<iters:\n",
    "            iter_time+=1\n",
    "            flag=False\n",
    "            dists=cdist(X,self.centers)\n",
    "            labels=np.argmin(dists,axis=1)\n",
    "            for i in range(self.k):\n",
    "                new_center=X[labels==i].mean()\n",
    "                if norm(new_center-self.centers[i]) >self.esp:\n",
    "                    flag=True\n",
    "                self.centers[i]=new_center\n",
    "        return labels        \n",
    "            "
   ]
  },
  {
   "cell_type": "markdown",
   "metadata": {},
   "source": [
    "Now, let's generate some data and test the k-mean clustering method!\n",
    "I will start from the easiest case: 3 well separated clusters of mutivariate normal distributions with spherical distribution (or diagonal covariance matrix) on the two dimensional space. These data points are plot as below:"
   ]
  },
  {
   "cell_type": "code",
   "execution_count": 120,
   "metadata": {},
   "outputs": [
    {
     "data": {
      "image/png": "[encoded data removed]",
      "text/plain": [
       "<Figure size 432x288 with 1 Axes>"
      ]
     },
     "metadata": {
      "needs_background": "light"
     },
     "output_type": "display_data"
    }
   ],
   "source": [
    "mean1=[0,0]\n",
    "cov1=[[1,0],[0,1.0]]\n",
    "cluster1 = np.random.multivariate_normal(mean1, cov1, 50)\n",
    "\n",
    "mean2=[6,0]\n",
    "cov2=[[1,0],[0,1.0]]\n",
    "cluster2 = np.random.multivariate_normal(mean2, cov2, 50)\n",
    "\n",
    "mean3=[-6,0]\n",
    "cov3=[[1,0],[0,1.0]]\n",
    "cluster3 = np.random.multivariate_normal(mean3, cov3, 50)\n",
    "\n",
    "total=np.vstack([cluster1,cluster2,cluster3])\n",
    "total_plot_data=np.hsplit(total,2)\n",
    "\n",
    "colors=np.repeat([0,1,2],50)\n",
    "cmap=['r','g','b']\n",
    "\n",
    "for c in colors:\n",
    "    plt.scatter(total_plot_data[0][colors==c],total_plot_data[1][colors==c],color=cmap[c])"
   ]
  },
  {
   "cell_type": "markdown",
   "metadata": {},
   "source": [
    "Now we cluster these points using k-mean:"
   ]
  },
  {
   "cell_type": "code",
   "execution_count": 121,
   "metadata": {},
   "outputs": [
    {
     "data": {
      "image/png": "[encoded data removed]",
      "text/plain": [
       "<Figure size 432x288 with 1 Axes>"
      ]
     },
     "metadata": {
      "needs_background": "light"
     },
     "output_type": "display_data"
    }
   ],
   "source": [
    "kmean=k_means(k=3)\n",
    "labels=kmean.fit(total)\n",
    "\n",
    "for c in labels:\n",
    "    plt.scatter(total_plot_data[0][labels==c],total_plot_data[1][labels==c],color=cmap[c])"
   ]
  },
  {
   "cell_type": "markdown",
   "metadata": {},
   "source": [
    "We can see that K-mean algorithm did a pretty good job in clustering the points with only two data points mis-classified. Now, let's see a more challenging case where the data points in each cluster are not distributed so \"spherical\", as indicated by the non-zero elements on the off-diagonal poistions of their covariance matrices:"
   ]
  },
  {
   "cell_type": "code",
   "execution_count": 124,
   "metadata": {},
   "outputs": [
    {
     "data": {
      "image/png": "[encoded data removed]",
      "text/plain": [
       "<Figure size 432x288 with 1 Axes>"
      ]
     },
     "metadata": {
      "needs_background": "light"
     },
     "output_type": "display_data"
    }
   ],
   "source": [
    "import matplotlib.pyplot as plt\n",
    "mean1=[0,0]\n",
    "cov1=[[1,0.8],[0.8,1.0]]\n",
    "cluster1 = np.random.multivariate_normal(mean1, cov1, 50)\n",
    "\n",
    "mean2=[6,0]\n",
    "cov2=[[1,0.6],[0.6,1.0]]\n",
    "cluster2 = np.random.multivariate_normal(mean2, cov2, 50)\n",
    "\n",
    "mean3=[-6,0]\n",
    "cov3=[[1,0.4],[0.4,1.0]]\n",
    "cluster3 = np.random.multivariate_normal(mean3, cov3, 50)\n",
    "\n",
    "total=np.vstack([cluster1,cluster2,cluster3])\n",
    "total_plot_data=np.hsplit(total,2)\n",
    "\n",
    "colors=np.repeat([0,1,2],50)\n",
    "cmap=['r','g','b']\n",
    "\n",
    "for c in colors:\n",
    "    plt.scatter(total_plot_data[0][colors==c],total_plot_data[1][colors==c],color=cmap[c])"
   ]
  },
  {
   "cell_type": "markdown",
   "metadata": {},
   "source": [
    "It seems that the data points are very well separated into three clusters. Now let's see if K-means can find the right clusters!"
   ]
  },
  {
   "cell_type": "code",
   "execution_count": 125,
   "metadata": {},
   "outputs": [
    {
     "data": {
      "image/png": "[encoded data removed]",
      "text/plain": [
       "<Figure size 432x288 with 1 Axes>"
      ]
     },
     "metadata": {
      "needs_background": "light"
     },
     "output_type": "display_data"
    }
   ],
   "source": [
    "kmean=k_means(k=3)\n",
    "labels=kmean.fit(total)\n",
    "\n",
    "for c in labels:\n",
    "    plt.scatter(total_plot_data[0][labels==c],total_plot_data[1][labels==c],color=cmap[c])"
   ]
  },
  {
   "cell_type": "markdown",
   "metadata": {},
   "source": [
    "For these not very spherically distributed cluster points, K-Means misclassified more points compared to the spherical case even though the 3 clusters are separated pretty well. Now, let's look at another case where the x and y dimensions of the points in each cluster are more correlated."
   ]
  },
  {
   "cell_type": "code",
   "execution_count": 126,
   "metadata": {},
   "outputs": [
    {
     "data": {
      "image/png": "[encoded data removed]",
      "text/plain": [
       "<Figure size 432x288 with 1 Axes>"
      ]
     },
     "metadata": {
      "needs_background": "light"
     },
     "output_type": "display_data"
    }
   ],
   "source": [
    "mean1=[0,0]\n",
    "cov1=[[1,0.8],[0.8,1.0]]\n",
    "cluster1 = np.random.multivariate_normal(mean1, cov1, 50)\n",
    "\n",
    "mean2=[4,0]\n",
    "cov2=[[1,0.8],[0.8,1.0]]\n",
    "cluster2 = np.random.multivariate_normal(mean2, cov2, 50)\n",
    "\n",
    "mean3=[-4,0]\n",
    "cov3=[[1,0.8],[0.8,1.0]]\n",
    "cluster3 = np.random.multivariate_normal(mean3, cov3, 50)\n",
    "\n",
    "total=np.vstack([cluster1,cluster2,cluster3])\n",
    "total_plot_data=np.hsplit(total,2)\n",
    "\n",
    "colors=np.repeat([0,1,2],50)\n",
    "cmap=['r','g','b']\n",
    "\n",
    "for c in colors:\n",
    "    plt.scatter(total_plot_data[0][colors==c],total_plot_data[1][colors==c],color=cmap[c])"
   ]
  },
  {
   "cell_type": "markdown",
   "metadata": {},
   "source": [
    "Again, the 3 clusters seem to be very well separated. Now let's apply K-Means algorithm to these data!"
   ]
  },
  {
   "cell_type": "code",
   "execution_count": 127,
   "metadata": {},
   "outputs": [
    {
     "data": {
      "image/png": "[encoded data removed]",
      "text/plain": [
       "<Figure size 432x288 with 1 Axes>"
      ]
     },
     "metadata": {
      "needs_background": "light"
     },
     "output_type": "display_data"
    }
   ],
   "source": [
    "kmean=k_means(k=3)\n",
    "labels=kmean.fit(total)\n",
    "\n",
    "for c in labels:\n",
    "    plt.scatter(total_plot_data[0][labels==c],total_plot_data[1][labels==c],color=cmap[c])"
   ]
  },
  {
   "cell_type": "markdown",
   "metadata": {},
   "source": [
    "We can see that for these clusters containing non-spherical distributed data points (x and y dimensions highly correlated), K-Means can not effectively cluster the data points to the correct clusters."
   ]
  },
  {
   "cell_type": "markdown",
   "metadata": {},
   "source": [
    "# Conclusions:\n",
    "1. K-Mean cluster algorithm was implemented using numpy and scipy\n",
    "2. Based on multivariate normal distribution data generated by simulations, K-means is effective in clustering spherical distributed data, but mis-classifies many data points when different dimensions of the data are highly correlated"
   ]
  },
  {
   "cell_type": "code",
   "execution_count": null,
   "metadata": {},
   "outputs": [],
   "source": []
  }
 ],
 "metadata": {
  "kernelspec": {
   "display_name": "Python 3",
   "language": "python",
   "name": "python3"
  },
  "language_info": {
   "codemirror_mode": {
    "name": "ipython",
    "version": 3
   },
   "file_extension": ".py",
   "mimetype": "text/x-python",
   "name": "python",
   "nbconvert_exporter": "python",
   "pygments_lexer": "ipython3",
   "version": "3.6.6"
  }
 },
 "nbformat": 4,
 "nbformat_minor": 2
}
