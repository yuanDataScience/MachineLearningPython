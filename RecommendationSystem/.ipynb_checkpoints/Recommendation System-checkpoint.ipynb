{
 "cells": [
  {
   "cell_type": "markdown",
   "metadata": {},
   "source": [
    "## Implemenation of A Collaborative Filtering System for Movie Recommendaion\n",
    "\n",
    "This project implemented a model-based collaborative filtering recommendation system using gradient descendent optimization, and applied this system to movie recommendation using the MovieLens datset, whcih can be downloaded [here](http://files.grouplens.org/datasets/movielens/ml-100k.zip). A brief description of the dataset is available [here](http://files.grouplens.org/datasets/movielens/ml-100k-README.txt). "
   ]
  },
  {
   "cell_type": "markdown",
   "metadata": {},
   "source": [
    "### Load packages and data"
   ]
  },
  {
   "cell_type": "code",
   "execution_count": 127,
   "metadata": {
    "collapsed": true
   },
   "outputs": [],
   "source": [
    "import numpy as np\n",
    "import scipy as sp\n",
    "import matplotlib.pyplot as plt\n",
    "import seaborn as sns\n",
    "import pandas as pd\n",
    "%matplotlib inline\n",
    "from scipy import optimize"
   ]
  },
  {
   "cell_type": "code",
   "execution_count": 128,
   "metadata": {
    "collapsed": true
   },
   "outputs": [],
   "source": [
    "column_names=['user_id','item_id','rating','timestamp']\n",
    "df=pd.read_csv('u.data',sep='\\t',names=column_names)"
   ]
  },
  {
   "cell_type": "markdown",
   "metadata": {},
   "source": [
    "Let's take a quick look at the data"
   ]
  },
  {
   "cell_type": "code",
   "execution_count": 129,
   "metadata": {},
   "outputs": [
    {
     "data": {
      "text/html": [
       "<div>\n",
       "<style>\n",
       "    .dataframe thead tr:only-child th {\n",
       "        text-align: right;\n",
       "    }\n",
       "\n",
       "    .dataframe thead th {\n",
       "        text-align: left;\n",
       "    }\n",
       "\n",
       "    .dataframe tbody tr th {\n",
       "        vertical-align: top;\n",
       "    }\n",
       "</style>\n",
       "<table border=\"1\" class=\"dataframe\">\n",
       "  <thead>\n",
       "    <tr style=\"text-align: right;\">\n",
       "      <th></th>\n",
       "      <th>user_id</th>\n",
       "      <th>item_id</th>\n",
       "      <th>rating</th>\n",
       "      <th>timestamp</th>\n",
       "    </tr>\n",
       "  </thead>\n",
       "  <tbody>\n",
       "    <tr>\n",
       "      <th>0</th>\n",
       "      <td>0</td>\n",
       "      <td>50</td>\n",
       "      <td>5</td>\n",
       "      <td>881250949</td>\n",
       "    </tr>\n",
       "    <tr>\n",
       "      <th>1</th>\n",
       "      <td>0</td>\n",
       "      <td>172</td>\n",
       "      <td>5</td>\n",
       "      <td>881250949</td>\n",
       "    </tr>\n",
       "    <tr>\n",
       "      <th>2</th>\n",
       "      <td>0</td>\n",
       "      <td>133</td>\n",
       "      <td>1</td>\n",
       "      <td>881250949</td>\n",
       "    </tr>\n",
       "    <tr>\n",
       "      <th>3</th>\n",
       "      <td>196</td>\n",
       "      <td>242</td>\n",
       "      <td>3</td>\n",
       "      <td>881250949</td>\n",
       "    </tr>\n",
       "    <tr>\n",
       "      <th>4</th>\n",
       "      <td>186</td>\n",
       "      <td>302</td>\n",
       "      <td>3</td>\n",
       "      <td>891717742</td>\n",
       "    </tr>\n",
       "  </tbody>\n",
       "</table>\n",
       "</div>"
      ],
      "text/plain": [
       "   user_id  item_id  rating  timestamp\n",
       "0        0       50       5  881250949\n",
       "1        0      172       5  881250949\n",
       "2        0      133       1  881250949\n",
       "3      196      242       3  881250949\n",
       "4      186      302       3  891717742"
      ]
     },
     "execution_count": 129,
     "metadata": {},
     "output_type": "execute_result"
    }
   ],
   "source": [
    "df.head()"
   ]
  },
  {
   "cell_type": "markdown",
   "metadata": {},
   "source": [
    "The item_id in this dataset corresponds to the id of movies. Titles of movies can be obtained by loading the Movie_ID_Titles file, and merging the movie_title dataframe with the current dataframe, as shown below:"
   ]
  },
  {
   "cell_type": "code",
   "execution_count": 130,
   "metadata": {},
   "outputs": [
    {
     "data": {
      "text/html": [
       "<div>\n",
       "<style>\n",
       "    .dataframe thead tr:only-child th {\n",
       "        text-align: right;\n",
       "    }\n",
       "\n",
       "    .dataframe thead th {\n",
       "        text-align: left;\n",
       "    }\n",
       "\n",
       "    .dataframe tbody tr th {\n",
       "        vertical-align: top;\n",
       "    }\n",
       "</style>\n",
       "<table border=\"1\" class=\"dataframe\">\n",
       "  <thead>\n",
       "    <tr style=\"text-align: right;\">\n",
       "      <th></th>\n",
       "      <th>user_id</th>\n",
       "      <th>item_id</th>\n",
       "      <th>rating</th>\n",
       "      <th>timestamp</th>\n",
       "      <th>title</th>\n",
       "    </tr>\n",
       "  </thead>\n",
       "  <tbody>\n",
       "    <tr>\n",
       "      <th>0</th>\n",
       "      <td>0</td>\n",
       "      <td>50</td>\n",
       "      <td>5</td>\n",
       "      <td>881250949</td>\n",
       "      <td>Star Wars (1977)</td>\n",
       "    </tr>\n",
       "    <tr>\n",
       "      <th>1</th>\n",
       "      <td>290</td>\n",
       "      <td>50</td>\n",
       "      <td>5</td>\n",
       "      <td>880473582</td>\n",
       "      <td>Star Wars (1977)</td>\n",
       "    </tr>\n",
       "    <tr>\n",
       "      <th>2</th>\n",
       "      <td>79</td>\n",
       "      <td>50</td>\n",
       "      <td>4</td>\n",
       "      <td>891271545</td>\n",
       "      <td>Star Wars (1977)</td>\n",
       "    </tr>\n",
       "    <tr>\n",
       "      <th>3</th>\n",
       "      <td>2</td>\n",
       "      <td>50</td>\n",
       "      <td>5</td>\n",
       "      <td>888552084</td>\n",
       "      <td>Star Wars (1977)</td>\n",
       "    </tr>\n",
       "    <tr>\n",
       "      <th>4</th>\n",
       "      <td>8</td>\n",
       "      <td>50</td>\n",
       "      <td>5</td>\n",
       "      <td>879362124</td>\n",
       "      <td>Star Wars (1977)</td>\n",
       "    </tr>\n",
       "  </tbody>\n",
       "</table>\n",
       "</div>"
      ],
      "text/plain": [
       "   user_id  item_id  rating  timestamp             title\n",
       "0        0       50       5  881250949  Star Wars (1977)\n",
       "1      290       50       5  880473582  Star Wars (1977)\n",
       "2       79       50       4  891271545  Star Wars (1977)\n",
       "3        2       50       5  888552084  Star Wars (1977)\n",
       "4        8       50       5  879362124  Star Wars (1977)"
      ]
     },
     "execution_count": 130,
     "metadata": {},
     "output_type": "execute_result"
    }
   ],
   "source": [
    "movie_title=pd.read_csv(\"Movie_ID_Titles\")\n",
    "pd.merge(df,movie_title,on='item_id').head()"
   ]
  },
  {
   "cell_type": "markdown",
   "metadata": {},
   "source": [
    "For collaborative filtering system to predict the movie ratings, however, we do not need movie titles. In fact, the recommendation system only needs user_id, item_id and rating columns. Therefore, we will modify the df dataframe to only include these columns."
   ]
  },
  {
   "cell_type": "code",
   "execution_count": 131,
   "metadata": {},
   "outputs": [
    {
     "data": {
      "text/html": [
       "<div>\n",
       "<style>\n",
       "    .dataframe thead tr:only-child th {\n",
       "        text-align: right;\n",
       "    }\n",
       "\n",
       "    .dataframe thead th {\n",
       "        text-align: left;\n",
       "    }\n",
       "\n",
       "    .dataframe tbody tr th {\n",
       "        vertical-align: top;\n",
       "    }\n",
       "</style>\n",
       "<table border=\"1\" class=\"dataframe\">\n",
       "  <thead>\n",
       "    <tr style=\"text-align: right;\">\n",
       "      <th></th>\n",
       "      <th>user_id</th>\n",
       "      <th>item_id</th>\n",
       "      <th>rating</th>\n",
       "    </tr>\n",
       "  </thead>\n",
       "  <tbody>\n",
       "    <tr>\n",
       "      <th>0</th>\n",
       "      <td>0</td>\n",
       "      <td>50</td>\n",
       "      <td>5</td>\n",
       "    </tr>\n",
       "    <tr>\n",
       "      <th>1</th>\n",
       "      <td>0</td>\n",
       "      <td>172</td>\n",
       "      <td>5</td>\n",
       "    </tr>\n",
       "    <tr>\n",
       "      <th>2</th>\n",
       "      <td>0</td>\n",
       "      <td>133</td>\n",
       "      <td>1</td>\n",
       "    </tr>\n",
       "    <tr>\n",
       "      <th>3</th>\n",
       "      <td>196</td>\n",
       "      <td>242</td>\n",
       "      <td>3</td>\n",
       "    </tr>\n",
       "    <tr>\n",
       "      <th>4</th>\n",
       "      <td>186</td>\n",
       "      <td>302</td>\n",
       "      <td>3</td>\n",
       "    </tr>\n",
       "  </tbody>\n",
       "</table>\n",
       "</div>"
      ],
      "text/plain": [
       "   user_id  item_id  rating\n",
       "0        0       50       5\n",
       "1        0      172       5\n",
       "2        0      133       1\n",
       "3      196      242       3\n",
       "4      186      302       3"
      ]
     },
     "execution_count": 131,
     "metadata": {},
     "output_type": "execute_result"
    }
   ],
   "source": [
    "df=df.iloc[:,:3]\n",
    "df.head()"
   ]
  },
  {
   "cell_type": "markdown",
   "metadata": {},
   "source": [
    "### Data Exploration\n",
    "Now let's explore the dataset a little bit.\n",
    "First, how many of unique movies and users are included?"
   ]
  },
  {
   "cell_type": "code",
   "execution_count": 132,
   "metadata": {},
   "outputs": [
    {
     "name": "stdout",
     "output_type": "stream",
     "text": [
      "number of unique movies is:  1682\n",
      "number of unique users is:  944\n"
     ]
    }
   ],
   "source": [
    "print \"number of unique movies is: \",len(df['item_id'].unique())\n",
    "print \"number of unique users is: \",len(df['user_id'].unique())"
   ]
  },
  {
   "cell_type": "markdown",
   "metadata": {},
   "source": [
    "rating is the rate that users gave to movies, and is a number between 1 and 5. Let's see the distribution of ratings"
   ]
  },
  {
   "cell_type": "code",
   "execution_count": 133,
   "metadata": {},
   "outputs": [
    {
     "data": {
      "text/plain": [
       "<matplotlib.axes._subplots.AxesSubplot at 0x1840d0f0>"
      ]
     },
     "execution_count": 133,
     "metadata": {},
     "output_type": "execute_result"
    },
    {
     "data": {
      "image/png": "[encoded data removed]",
      "text/plain": [
       "<matplotlib.figure.Figure at 0x18432f98>"
      ]
     },
     "metadata": {},
     "output_type": "display_data"
    }
   ],
   "source": [
    "sns.countplot(df['rating'])"
   ]
  },
  {
   "cell_type": "markdown",
   "metadata": {},
   "source": [
    "This gives us the general idea of the distribution of the ratings over all the movies. Now let's see the distribution of the average rating based on each movie:"
   ]
  },
  {
   "cell_type": "code",
   "execution_count": 134,
   "metadata": {
    "collapsed": true
   },
   "outputs": [],
   "source": [
    "rating=pd.DataFrame({'ave_rating':df.groupby('item_id')['rating'].mean()})\n",
    "rating['number_of_ratings']=df.groupby('item_id')['rating'].count()"
   ]
  },
  {
   "cell_type": "code",
   "execution_count": 135,
   "metadata": {},
   "outputs": [
    {
     "data": {
      "text/html": [
       "<div>\n",
       "<style>\n",
       "    .dataframe thead tr:only-child th {\n",
       "        text-align: right;\n",
       "    }\n",
       "\n",
       "    .dataframe thead th {\n",
       "        text-align: left;\n",
       "    }\n",
       "\n",
       "    .dataframe tbody tr th {\n",
       "        vertical-align: top;\n",
       "    }\n",
       "</style>\n",
       "<table border=\"1\" class=\"dataframe\">\n",
       "  <thead>\n",
       "    <tr style=\"text-align: right;\">\n",
       "      <th></th>\n",
       "      <th>ave_rating</th>\n",
       "      <th>number_of_ratings</th>\n",
       "    </tr>\n",
       "    <tr>\n",
       "      <th>item_id</th>\n",
       "      <th></th>\n",
       "      <th></th>\n",
       "    </tr>\n",
       "  </thead>\n",
       "  <tbody>\n",
       "    <tr>\n",
       "      <th>1</th>\n",
       "      <td>3.878319</td>\n",
       "      <td>452</td>\n",
       "    </tr>\n",
       "    <tr>\n",
       "      <th>2</th>\n",
       "      <td>3.206107</td>\n",
       "      <td>131</td>\n",
       "    </tr>\n",
       "    <tr>\n",
       "      <th>3</th>\n",
       "      <td>3.033333</td>\n",
       "      <td>90</td>\n",
       "    </tr>\n",
       "    <tr>\n",
       "      <th>4</th>\n",
       "      <td>3.550239</td>\n",
       "      <td>209</td>\n",
       "    </tr>\n",
       "    <tr>\n",
       "      <th>5</th>\n",
       "      <td>3.302326</td>\n",
       "      <td>86</td>\n",
       "    </tr>\n",
       "  </tbody>\n",
       "</table>\n",
       "</div>"
      ],
      "text/plain": [
       "         ave_rating  number_of_ratings\n",
       "item_id                               \n",
       "1          3.878319                452\n",
       "2          3.206107                131\n",
       "3          3.033333                 90\n",
       "4          3.550239                209\n",
       "5          3.302326                 86"
      ]
     },
     "execution_count": 135,
     "metadata": {},
     "output_type": "execute_result"
    }
   ],
   "source": [
    "rating.head()"
   ]
  },
  {
   "cell_type": "code",
   "execution_count": 136,
   "metadata": {},
   "outputs": [
    {
     "data": {
      "text/plain": [
       "pandas.core.frame.DataFrame"
      ]
     },
     "execution_count": 136,
     "metadata": {},
     "output_type": "execute_result"
    }
   ],
   "source": [
    "type(rating)"
   ]
  },
  {
   "cell_type": "code",
   "execution_count": 137,
   "metadata": {},
   "outputs": [
    {
     "data": {
      "text/plain": [
       "<matplotlib.axes._subplots.AxesSubplot at 0x18250e80>"
      ]
     },
     "execution_count": 137,
     "metadata": {},
     "output_type": "execute_result"
    },
    {
     "data": {
      "image/png": "[encoded data removed]",
      "text/plain": [
       "<matplotlib.figure.Figure at 0x184aa668>"
      ]
     },
     "metadata": {},
     "output_type": "display_data"
    }
   ],
   "source": [
    "rating['ave_rating'].plot.hist(bins=70)"
   ]
  },
  {
   "cell_type": "markdown",
   "metadata": {},
   "source": [
    "From this figure, we observed a \"bell-shaped\" distribution of the average rating based on each movie. Then the question is: is there any correlation between the average rating and the number of rates for a moive?"
   ]
  },
  {
   "cell_type": "code",
   "execution_count": 183,
   "metadata": {},
   "outputs": [
    {
     "data": {
      "text/plain": [
       "<seaborn.axisgrid.JointGrid at 0x16d9c828>"
      ]
     },
     "execution_count": 183,
     "metadata": {},
     "output_type": "execute_result"
    },
    {
     "data": {
      "image/png": "[encoded data removed]",
      "text/plain": [
       "<matplotlib.figure.Figure at 0x16f810f0>"
      ]
     },
     "metadata": {},
     "output_type": "display_data"
    }
   ],
   "source": [
    "sns.jointplot('number_of_ratings','ave_rating',rating)"
   ]
  },
  {
   "cell_type": "markdown",
   "metadata": {},
   "source": [
    "We observe a large number of movies with number of ratings less than 200. Basically, there is no apparent trend in the average ratings versus the number of ratings."
   ]
  },
  {
   "cell_type": "markdown",
   "metadata": {},
   "source": [
    "### Data Transformation\n",
    "In this project, we will build a collaborative filtering system by fractoring the user-movie rating matrix (data matrix) to the product of two low rank matrices. The data matrix consists of the ratings of movies given by users. Since most of the users did not watch all of the movies, the data matrix usually is a sparse matrix containing many missing values. By optimizing the parameters of the two low rank matrices, we would expect to use the product of these two matrices to approximate the data matrix. Furthermore, the product of these two matrices will give the predictions to missing values in the original data matix, based on which, we can give the recommendations to users. Therefore, the first step of implementing the collaborative filtering system is to transform the raw data to a data matrix, where each row corresponds to each movie, and each column corresponds to one user. We tranform the data using pandas pivot function"
   ]
  },
  {
   "cell_type": "code",
   "execution_count": 184,
   "metadata": {
    "collapsed": true
   },
   "outputs": [],
   "source": [
    "rate_mat=df.pivot(index='item_id',columns='user_id',values='rating')"
   ]
  },
  {
   "cell_type": "code",
   "execution_count": 185,
   "metadata": {},
   "outputs": [
    {
     "data": {
      "text/html": [
       "<div>\n",
       "<style>\n",
       "    .dataframe thead tr:only-child th {\n",
       "        text-align: right;\n",
       "    }\n",
       "\n",
       "    .dataframe thead th {\n",
       "        text-align: left;\n",
       "    }\n",
       "\n",
       "    .dataframe tbody tr th {\n",
       "        vertical-align: top;\n",
       "    }\n",
       "</style>\n",
       "<table border=\"1\" class=\"dataframe\">\n",
       "  <thead>\n",
       "    <tr style=\"text-align: right;\">\n",
       "      <th>user_id</th>\n",
       "      <th>0</th>\n",
       "      <th>1</th>\n",
       "      <th>2</th>\n",
       "      <th>3</th>\n",
       "      <th>4</th>\n",
       "      <th>5</th>\n",
       "      <th>6</th>\n",
       "      <th>7</th>\n",
       "      <th>8</th>\n",
       "      <th>9</th>\n",
       "      <th>...</th>\n",
       "      <th>934</th>\n",
       "      <th>935</th>\n",
       "      <th>936</th>\n",
       "      <th>937</th>\n",
       "      <th>938</th>\n",
       "      <th>939</th>\n",
       "      <th>940</th>\n",
       "      <th>941</th>\n",
       "      <th>942</th>\n",
       "      <th>943</th>\n",
       "    </tr>\n",
       "    <tr>\n",
       "      <th>item_id</th>\n",
       "      <th></th>\n",
       "      <th></th>\n",
       "      <th></th>\n",
       "      <th></th>\n",
       "      <th></th>\n",
       "      <th></th>\n",
       "      <th></th>\n",
       "      <th></th>\n",
       "      <th></th>\n",
       "      <th></th>\n",
       "      <th></th>\n",
       "      <th></th>\n",
       "      <th></th>\n",
       "      <th></th>\n",
       "      <th></th>\n",
       "      <th></th>\n",
       "      <th></th>\n",
       "      <th></th>\n",
       "      <th></th>\n",
       "      <th></th>\n",
       "      <th></th>\n",
       "    </tr>\n",
       "  </thead>\n",
       "  <tbody>\n",
       "    <tr>\n",
       "      <th>1</th>\n",
       "      <td>NaN</td>\n",
       "      <td>5.0</td>\n",
       "      <td>4.0</td>\n",
       "      <td>NaN</td>\n",
       "      <td>NaN</td>\n",
       "      <td>4.0</td>\n",
       "      <td>4.0</td>\n",
       "      <td>NaN</td>\n",
       "      <td>NaN</td>\n",
       "      <td>NaN</td>\n",
       "      <td>...</td>\n",
       "      <td>2.0</td>\n",
       "      <td>3.0</td>\n",
       "      <td>4.0</td>\n",
       "      <td>NaN</td>\n",
       "      <td>4.0</td>\n",
       "      <td>NaN</td>\n",
       "      <td>NaN</td>\n",
       "      <td>5.0</td>\n",
       "      <td>NaN</td>\n",
       "      <td>NaN</td>\n",
       "    </tr>\n",
       "    <tr>\n",
       "      <th>2</th>\n",
       "      <td>NaN</td>\n",
       "      <td>3.0</td>\n",
       "      <td>NaN</td>\n",
       "      <td>NaN</td>\n",
       "      <td>NaN</td>\n",
       "      <td>3.0</td>\n",
       "      <td>NaN</td>\n",
       "      <td>NaN</td>\n",
       "      <td>NaN</td>\n",
       "      <td>NaN</td>\n",
       "      <td>...</td>\n",
       "      <td>4.0</td>\n",
       "      <td>NaN</td>\n",
       "      <td>NaN</td>\n",
       "      <td>NaN</td>\n",
       "      <td>NaN</td>\n",
       "      <td>NaN</td>\n",
       "      <td>NaN</td>\n",
       "      <td>NaN</td>\n",
       "      <td>NaN</td>\n",
       "      <td>5.0</td>\n",
       "    </tr>\n",
       "    <tr>\n",
       "      <th>3</th>\n",
       "      <td>NaN</td>\n",
       "      <td>4.0</td>\n",
       "      <td>NaN</td>\n",
       "      <td>NaN</td>\n",
       "      <td>NaN</td>\n",
       "      <td>NaN</td>\n",
       "      <td>NaN</td>\n",
       "      <td>NaN</td>\n",
       "      <td>NaN</td>\n",
       "      <td>NaN</td>\n",
       "      <td>...</td>\n",
       "      <td>NaN</td>\n",
       "      <td>NaN</td>\n",
       "      <td>4.0</td>\n",
       "      <td>NaN</td>\n",
       "      <td>NaN</td>\n",
       "      <td>NaN</td>\n",
       "      <td>NaN</td>\n",
       "      <td>NaN</td>\n",
       "      <td>NaN</td>\n",
       "      <td>NaN</td>\n",
       "    </tr>\n",
       "    <tr>\n",
       "      <th>4</th>\n",
       "      <td>NaN</td>\n",
       "      <td>3.0</td>\n",
       "      <td>NaN</td>\n",
       "      <td>NaN</td>\n",
       "      <td>NaN</td>\n",
       "      <td>NaN</td>\n",
       "      <td>NaN</td>\n",
       "      <td>5.0</td>\n",
       "      <td>NaN</td>\n",
       "      <td>NaN</td>\n",
       "      <td>...</td>\n",
       "      <td>5.0</td>\n",
       "      <td>NaN</td>\n",
       "      <td>NaN</td>\n",
       "      <td>NaN</td>\n",
       "      <td>NaN</td>\n",
       "      <td>NaN</td>\n",
       "      <td>2.0</td>\n",
       "      <td>NaN</td>\n",
       "      <td>NaN</td>\n",
       "      <td>NaN</td>\n",
       "    </tr>\n",
       "    <tr>\n",
       "      <th>5</th>\n",
       "      <td>NaN</td>\n",
       "      <td>3.0</td>\n",
       "      <td>NaN</td>\n",
       "      <td>NaN</td>\n",
       "      <td>NaN</td>\n",
       "      <td>NaN</td>\n",
       "      <td>NaN</td>\n",
       "      <td>NaN</td>\n",
       "      <td>NaN</td>\n",
       "      <td>NaN</td>\n",
       "      <td>...</td>\n",
       "      <td>NaN</td>\n",
       "      <td>NaN</td>\n",
       "      <td>NaN</td>\n",
       "      <td>NaN</td>\n",
       "      <td>NaN</td>\n",
       "      <td>NaN</td>\n",
       "      <td>NaN</td>\n",
       "      <td>NaN</td>\n",
       "      <td>NaN</td>\n",
       "      <td>NaN</td>\n",
       "    </tr>\n",
       "  </tbody>\n",
       "</table>\n",
       "<p>5 rows × 944 columns</p>\n",
       "</div>"
      ],
      "text/plain": [
       "user_id  0    1    2    3    4    5    6    7    8    9   ...   934  935  936  \\\n",
       "item_id                                                   ...                   \n",
       "1        NaN  5.0  4.0  NaN  NaN  4.0  4.0  NaN  NaN  NaN ...   2.0  3.0  4.0   \n",
       "2        NaN  3.0  NaN  NaN  NaN  3.0  NaN  NaN  NaN  NaN ...   4.0  NaN  NaN   \n",
       "3        NaN  4.0  NaN  NaN  NaN  NaN  NaN  NaN  NaN  NaN ...   NaN  NaN  4.0   \n",
       "4        NaN  3.0  NaN  NaN  NaN  NaN  NaN  5.0  NaN  NaN ...   5.0  NaN  NaN   \n",
       "5        NaN  3.0  NaN  NaN  NaN  NaN  NaN  NaN  NaN  NaN ...   NaN  NaN  NaN   \n",
       "\n",
       "user_id  937  938  939  940  941  942  943  \n",
       "item_id                                     \n",
       "1        NaN  4.0  NaN  NaN  5.0  NaN  NaN  \n",
       "2        NaN  NaN  NaN  NaN  NaN  NaN  5.0  \n",
       "3        NaN  NaN  NaN  NaN  NaN  NaN  NaN  \n",
       "4        NaN  NaN  NaN  2.0  NaN  NaN  NaN  \n",
       "5        NaN  NaN  NaN  NaN  NaN  NaN  NaN  \n",
       "\n",
       "[5 rows x 944 columns]"
      ]
     },
     "execution_count": 185,
     "metadata": {},
     "output_type": "execute_result"
    }
   ],
   "source": [
    "rate_mat.head()"
   ]
  },
  {
   "cell_type": "code",
   "execution_count": 186,
   "metadata": {},
   "outputs": [
    {
     "data": {
      "text/plain": [
       "(1682, 944)"
      ]
     },
     "execution_count": 186,
     "metadata": {},
     "output_type": "execute_result"
    }
   ],
   "source": [
    "rate_mat.shape"
   ]
  },
  {
   "cell_type": "markdown",
   "metadata": {},
   "source": [
    "In the rate_mat dataframe, each row corresponds to one movie, and each column corresponds to a user. There are 944 columns in the dataset, corresponding to 944 users and 1682 rows, corresponding to 1682 movies. In addition, as mentioned before, this matrix is a sparse matrix: There are many missing values in the dataframe. We will fill these missing values by 0, since a valid rating should between 1 and 5. So it is perfect to use 0 to represent missing values here."
   ]
  },
  {
   "cell_type": "code",
   "execution_count": 187,
   "metadata": {
    "collapsed": true
   },
   "outputs": [],
   "source": [
    "rate_mat.fillna(0,inplace=True)"
   ]
  },
  {
   "cell_type": "markdown",
   "metadata": {},
   "source": [
    "We then observed that all the values in the first columns are zero, which will not provide useful information for the recommendation system. Therefore, this column was eliminated, and we have 943 \"valid\" users."
   ]
  },
  {
   "cell_type": "code",
   "execution_count": 188,
   "metadata": {
    "collapsed": true
   },
   "outputs": [],
   "source": [
    "rate_mat=rate_mat.loc[:,1:]"
   ]
  },
  {
   "cell_type": "code",
   "execution_count": 189,
   "metadata": {},
   "outputs": [
    {
     "data": {
      "text/html": [
       "<div>\n",
       "<style>\n",
       "    .dataframe thead tr:only-child th {\n",
       "        text-align: right;\n",
       "    }\n",
       "\n",
       "    .dataframe thead th {\n",
       "        text-align: left;\n",
       "    }\n",
       "\n",
       "    .dataframe tbody tr th {\n",
       "        vertical-align: top;\n",
       "    }\n",
       "</style>\n",
       "<table border=\"1\" class=\"dataframe\">\n",
       "  <thead>\n",
       "    <tr style=\"text-align: right;\">\n",
       "      <th>user_id</th>\n",
       "      <th>1</th>\n",
       "      <th>2</th>\n",
       "      <th>3</th>\n",
       "      <th>4</th>\n",
       "      <th>5</th>\n",
       "      <th>6</th>\n",
       "      <th>7</th>\n",
       "      <th>8</th>\n",
       "      <th>9</th>\n",
       "      <th>10</th>\n",
       "      <th>...</th>\n",
       "      <th>934</th>\n",
       "      <th>935</th>\n",
       "      <th>936</th>\n",
       "      <th>937</th>\n",
       "      <th>938</th>\n",
       "      <th>939</th>\n",
       "      <th>940</th>\n",
       "      <th>941</th>\n",
       "      <th>942</th>\n",
       "      <th>943</th>\n",
       "    </tr>\n",
       "    <tr>\n",
       "      <th>item_id</th>\n",
       "      <th></th>\n",
       "      <th></th>\n",
       "      <th></th>\n",
       "      <th></th>\n",
       "      <th></th>\n",
       "      <th></th>\n",
       "      <th></th>\n",
       "      <th></th>\n",
       "      <th></th>\n",
       "      <th></th>\n",
       "      <th></th>\n",
       "      <th></th>\n",
       "      <th></th>\n",
       "      <th></th>\n",
       "      <th></th>\n",
       "      <th></th>\n",
       "      <th></th>\n",
       "      <th></th>\n",
       "      <th></th>\n",
       "      <th></th>\n",
       "      <th></th>\n",
       "    </tr>\n",
       "  </thead>\n",
       "  <tbody>\n",
       "    <tr>\n",
       "      <th>1</th>\n",
       "      <td>5.0</td>\n",
       "      <td>4.0</td>\n",
       "      <td>0.0</td>\n",
       "      <td>0.0</td>\n",
       "      <td>4.0</td>\n",
       "      <td>4.0</td>\n",
       "      <td>0.0</td>\n",
       "      <td>0.0</td>\n",
       "      <td>0.0</td>\n",
       "      <td>4.0</td>\n",
       "      <td>...</td>\n",
       "      <td>2.0</td>\n",
       "      <td>3.0</td>\n",
       "      <td>4.0</td>\n",
       "      <td>0.0</td>\n",
       "      <td>4.0</td>\n",
       "      <td>0.0</td>\n",
       "      <td>0.0</td>\n",
       "      <td>5.0</td>\n",
       "      <td>0.0</td>\n",
       "      <td>0.0</td>\n",
       "    </tr>\n",
       "    <tr>\n",
       "      <th>2</th>\n",
       "      <td>3.0</td>\n",
       "      <td>0.0</td>\n",
       "      <td>0.0</td>\n",
       "      <td>0.0</td>\n",
       "      <td>3.0</td>\n",
       "      <td>0.0</td>\n",
       "      <td>0.0</td>\n",
       "      <td>0.0</td>\n",
       "      <td>0.0</td>\n",
       "      <td>0.0</td>\n",
       "      <td>...</td>\n",
       "      <td>4.0</td>\n",
       "      <td>0.0</td>\n",
       "      <td>0.0</td>\n",
       "      <td>0.0</td>\n",
       "      <td>0.0</td>\n",
       "      <td>0.0</td>\n",
       "      <td>0.0</td>\n",
       "      <td>0.0</td>\n",
       "      <td>0.0</td>\n",
       "      <td>5.0</td>\n",
       "    </tr>\n",
       "    <tr>\n",
       "      <th>3</th>\n",
       "      <td>4.0</td>\n",
       "      <td>0.0</td>\n",
       "      <td>0.0</td>\n",
       "      <td>0.0</td>\n",
       "      <td>0.0</td>\n",
       "      <td>0.0</td>\n",
       "      <td>0.0</td>\n",
       "      <td>0.0</td>\n",
       "      <td>0.0</td>\n",
       "      <td>0.0</td>\n",
       "      <td>...</td>\n",
       "      <td>0.0</td>\n",
       "      <td>0.0</td>\n",
       "      <td>4.0</td>\n",
       "      <td>0.0</td>\n",
       "      <td>0.0</td>\n",
       "      <td>0.0</td>\n",
       "      <td>0.0</td>\n",
       "      <td>0.0</td>\n",
       "      <td>0.0</td>\n",
       "      <td>0.0</td>\n",
       "    </tr>\n",
       "    <tr>\n",
       "      <th>4</th>\n",
       "      <td>3.0</td>\n",
       "      <td>0.0</td>\n",
       "      <td>0.0</td>\n",
       "      <td>0.0</td>\n",
       "      <td>0.0</td>\n",
       "      <td>0.0</td>\n",
       "      <td>5.0</td>\n",
       "      <td>0.0</td>\n",
       "      <td>0.0</td>\n",
       "      <td>4.0</td>\n",
       "      <td>...</td>\n",
       "      <td>5.0</td>\n",
       "      <td>0.0</td>\n",
       "      <td>0.0</td>\n",
       "      <td>0.0</td>\n",
       "      <td>0.0</td>\n",
       "      <td>0.0</td>\n",
       "      <td>2.0</td>\n",
       "      <td>0.0</td>\n",
       "      <td>0.0</td>\n",
       "      <td>0.0</td>\n",
       "    </tr>\n",
       "    <tr>\n",
       "      <th>5</th>\n",
       "      <td>3.0</td>\n",
       "      <td>0.0</td>\n",
       "      <td>0.0</td>\n",
       "      <td>0.0</td>\n",
       "      <td>0.0</td>\n",
       "      <td>0.0</td>\n",
       "      <td>0.0</td>\n",
       "      <td>0.0</td>\n",
       "      <td>0.0</td>\n",
       "      <td>0.0</td>\n",
       "      <td>...</td>\n",
       "      <td>0.0</td>\n",
       "      <td>0.0</td>\n",
       "      <td>0.0</td>\n",
       "      <td>0.0</td>\n",
       "      <td>0.0</td>\n",
       "      <td>0.0</td>\n",
       "      <td>0.0</td>\n",
       "      <td>0.0</td>\n",
       "      <td>0.0</td>\n",
       "      <td>0.0</td>\n",
       "    </tr>\n",
       "  </tbody>\n",
       "</table>\n",
       "<p>5 rows × 943 columns</p>\n",
       "</div>"
      ],
      "text/plain": [
       "user_id  1    2    3    4    5    6    7    8    9    10  ...   934  935  936  \\\n",
       "item_id                                                   ...                   \n",
       "1        5.0  4.0  0.0  0.0  4.0  4.0  0.0  0.0  0.0  4.0 ...   2.0  3.0  4.0   \n",
       "2        3.0  0.0  0.0  0.0  3.0  0.0  0.0  0.0  0.0  0.0 ...   4.0  0.0  0.0   \n",
       "3        4.0  0.0  0.0  0.0  0.0  0.0  0.0  0.0  0.0  0.0 ...   0.0  0.0  4.0   \n",
       "4        3.0  0.0  0.0  0.0  0.0  0.0  5.0  0.0  0.0  4.0 ...   5.0  0.0  0.0   \n",
       "5        3.0  0.0  0.0  0.0  0.0  0.0  0.0  0.0  0.0  0.0 ...   0.0  0.0  0.0   \n",
       "\n",
       "user_id  937  938  939  940  941  942  943  \n",
       "item_id                                     \n",
       "1        0.0  4.0  0.0  0.0  5.0  0.0  0.0  \n",
       "2        0.0  0.0  0.0  0.0  0.0  0.0  5.0  \n",
       "3        0.0  0.0  0.0  0.0  0.0  0.0  0.0  \n",
       "4        0.0  0.0  0.0  2.0  0.0  0.0  0.0  \n",
       "5        0.0  0.0  0.0  0.0  0.0  0.0  0.0  \n",
       "\n",
       "[5 rows x 943 columns]"
      ]
     },
     "execution_count": 189,
     "metadata": {},
     "output_type": "execute_result"
    }
   ],
   "source": [
    "rate_mat.head()"
   ]
  },
  {
   "cell_type": "code",
   "execution_count": 195,
   "metadata": {
    "collapsed": true
   },
   "outputs": [],
   "source": [
    "rate_mat=rate_mat.values"
   ]
  },
  {
   "cell_type": "markdown",
   "metadata": {},
   "source": [
    "In addition to the rate_mat, we also define another matrix, valid_rate that defines whether or not a user rated a movie. If the ith user gave a valid rating to the jth movie, then valid_rate[j,i]=1, otherwise, valid_rate[j,i]=0."
   ]
  },
  {
   "cell_type": "code",
   "execution_count": 196,
   "metadata": {
    "collapsed": true
   },
   "outputs": [],
   "source": [
    "valid_rate=np.ones(rate_mat.shape)"
   ]
  },
  {
   "cell_type": "code",
   "execution_count": 197,
   "metadata": {
    "collapsed": true
   },
   "outputs": [],
   "source": [
    "valid_rate[rate_mat<1.0]=0.0"
   ]
  },
  {
   "cell_type": "code",
   "execution_count": 199,
   "metadata": {},
   "outputs": [
    {
     "data": {
      "text/plain": [
       "array([[ 5.,  4.,  0.,  0.,  4.],\n",
       "       [ 3.,  0.,  0.,  0.,  3.],\n",
       "       [ 4.,  0.,  0.,  0.,  0.],\n",
       "       [ 3.,  0.,  0.,  0.,  0.],\n",
       "       [ 3.,  0.,  0.,  0.,  0.]])"
      ]
     },
     "execution_count": 199,
     "metadata": {},
     "output_type": "execute_result"
    }
   ],
   "source": [
    "rate_mat[:5,:5]"
   ]
  },
  {
   "cell_type": "code",
   "execution_count": 200,
   "metadata": {},
   "outputs": [
    {
     "data": {
      "text/plain": [
       "array([[ 1.,  1.,  0.,  0.,  1.],\n",
       "       [ 1.,  0.,  0.,  0.,  1.],\n",
       "       [ 1.,  0.,  0.,  0.,  0.],\n",
       "       [ 1.,  0.,  0.,  0.,  0.],\n",
       "       [ 1.,  0.,  0.,  0.,  0.]])"
      ]
     },
     "execution_count": 200,
     "metadata": {},
     "output_type": "execute_result"
    }
   ],
   "source": [
    "valid_rate[:5,:5]"
   ]
  },
  {
   "cell_type": "markdown",
   "metadata": {},
   "source": [
    "### Factorizing Rating Matrix to Low Rank Matrices\n",
    "Next, we will factorizing the ratings matrix to two low rank matrices. To make it simple, we will factorize the rate_mat into two matrice: one is the X_prod matrix, consisting of 1682 rows and 10 columns, and the other is the Theta_user matrics, consisting of 10 rows and 943 columns. You can imagine that each row in X_prod matrix is the feature vector that characterizes the corresponding movie. For example, if a movie is a romance movie, the value corresponding to romance in its feature vector will be high. We assume that there are 10 of such important features that will decide the ratings of a movie. Similarly, in Theta_user matrix, each column defines the perference of one specific user to the 10 moive features. For example, if a user likes a romance movie, the corresponding value in its Theta_user column will have a high value. Finally, the rating of a user to a moive is the inner product of the corresponding Theta_user column and the X_prod row. For example, rating of the ith user for jth moive is the inner product of the jth row of X_prod and the ith column of Theta_users. Based on this concept, we implemented the collaborative filtering recommendation system below. The basic idea is to optimize parameters in X_prod and Theta_user matrices to make their product as close to rate_mat matrix as possible. We calculated the cost function based on the sum of squared residual between rate_mat and product of X_movie and Theta_user. In addition, we calculated the gradient of one of the X_prod and Theta_user by assuming the other matrix as a constant matrix. We then updated the gradient of X_prod and Theta_user alternatively, until finally their product is close enough to rate_mat. For the detailed analysis of the algorithm, including the derivation of the equations and theory, please refer to [my github project for Recommendation System](http://htmlpreview.github.io/?https://github.com/yuanDataScience/Machine_Learning_R/blob/master/RecommendationSystems/RecommendationSystems.nb.html) "
   ]
  },
  {
   "cell_type": "code",
   "execution_count": 201,
   "metadata": {
    "collapsed": true
   },
   "outputs": [],
   "source": [
    "from sklearn.base import BaseEstimator, ClassifierMixin\n",
    "class Recommend(BaseEstimator, ClassifierMixin):\n",
    "    def __init__(self,num_features=10,lmd=0):\n",
    "        self.num_features=num_features\n",
    "        self.lmd=lmd\n",
    "        \n",
    "          \n",
    "    def _costCompute(self,theta,valid_rate,rate_mat):\n",
    "        num_prod=rate_mat.shape[0]\n",
    "        num_user=rate_mat.shape[1]\n",
    "                \n",
    "        X_prod_len=self.num_features*num_prod\n",
    "        Theta_user_len=self.num_features*num_user\n",
    "        \n",
    "        X_prod=theta[:X_prod_len].reshape((num_prod,self.num_features)) #1682*10\n",
    "       \n",
    "        Theta_user=theta[X_prod_len:].reshape((self.num_features,num_user))#10*934\n",
    "        \n",
    "        diff=(((rate_mat-X_prod.dot(Theta_user))**2)*valid_rate).sum()\n",
    "        l2=self.lmd*((X_prod**2).sum()+(Theta_user**2).sum())\n",
    "                \n",
    "        return 0.5*(diff+l2)    \n",
    "    \n",
    "    def _gradCompute(self,theta,valid_rate,rate_mat):\n",
    "        num_prod=rate_mat.shape[0]\n",
    "        num_user=rate_mat.shape[1]\n",
    "                \n",
    "        X_prod_len=self.num_features*num_prod\n",
    "        Theta_user_len=self.num_features*num_user\n",
    "        \n",
    "        X_prod=theta[:X_prod_len].reshape((num_prod,self.num_features)) # 1682*10\n",
    "       \n",
    "        Theta_user=theta[X_prod_len:].reshape((self.num_features,num_user)) #10*944\n",
    "        diff=(X_prod.dot(Theta_user)-rate_mat)*valid_rate #1682*944\n",
    "        \n",
    "        grad_X_prod=diff.dot(Theta_user.T)+self.lmd*X_prod\n",
    "        grad_Theta_user=X_prod.T.dot(diff)+self.lmd*Theta_user\n",
    "        \n",
    "        return np.concatenate((grad_X_prod.ravel(),grad_Theta_user.ravel()))\n",
    "    \n",
    "    def _gradNumericCompute(self,theta,valid_rate,rate_mat):\n",
    "        para_size=len(theta)\n",
    "        disturb=np.zeros(para_size)\n",
    "        numgrad=np.zeros(para_size)\n",
    "        \n",
    "        e=1e-4\n",
    "        for i in range(para_size):\n",
    "            disturb[i]=e\n",
    "            \n",
    "            loss1=self._costCompute(theta+disturb,valid_rate,rate_mat)\n",
    "            loss2=self._costCompute(theta-disturb,valid_rate,rate_mat)\n",
    "            \n",
    "            numgrad[i]=(loss1-loss2)/(2*e)\n",
    "            disturb[i]=0\n",
    "        \n",
    "        return numgrad\n",
    "    \n",
    "    def checkCostFunction(self,lmd=0):\n",
    "        num_prod=4\n",
    "        num_user=5\n",
    "        self.num_features=3\n",
    "        self.lmd=lmd\n",
    "        X_t=np.random.uniform(size=12).reshape((num_prod,self.num_features))\n",
    "        Theta_t=np.random.uniform(size=15).reshape((self.num_features,num_user))\n",
    "        \n",
    "        y_t=X_t.dot(Theta_t)\n",
    "        \n",
    "        R=np.zeros(y_t.shape)\n",
    "        random_y=np.random.uniform(size=num_prod*num_user).reshape(y_t.shape)\n",
    "        y_t[random_y>0.5]=0\n",
    "        R[y_t!=0]=1\n",
    "        \n",
    "        params=np.random.uniform(size=(num_prod+num_user)*self.num_features)\n",
    "        num_grad=self._gradNumericCompute(params,R,y_t)\n",
    "        cal_grad=self._gradCompute(params,R,y_t)\n",
    "        \n",
    "        diff_vec=num_grad-cal_grad\n",
    "        total_vec=num_grad+cal_grad\n",
    "        \n",
    "        diff=(diff_vec**2).sum()/(total_vec**2).sum()\n",
    "        print \"normalized difference is: \", diff\n",
    "        \n",
    "        return pd.DataFrame({'num_grad':num_grad,'cal_grad':cal_grad})\n",
    "    \n",
    "    def _normalize(self,valid_rate,rate_mat):\n",
    "        Y_rated=rate_mat*valid_rate\n",
    "        Y_mean=Y_rated.sum(axis=1)/valid_rate.sum(axis=1)\n",
    "        Y_mean=Y_mean.reshape((rate_mat.shape[0],1))\n",
    "        Y_mean=np.repeat(Y_mean,rate_mat.shape[1],axis=1)\n",
    "         \n",
    "        Y_norm=(rate_mat-Y_mean)*valid_rate\n",
    "        self.Y_mean=Y_mean\n",
    "        return Y_norm\n",
    "        \n",
    "    def fit(self,valid_rate,rate_mat):\n",
    "        \n",
    "        Y_norm=self._normalize(valid_rate,rate_mat)\n",
    "        \n",
    "        num_prod=rate_mat.shape[0]\n",
    "        num_user=rate_mat.shape[1]\n",
    "        \n",
    "        X_t=np.random.uniform(size=num_prod*self.num_features).reshape((num_prod,self.num_features))\n",
    "        Theta_t=np.random.uniform(size=self.num_features*num_user).reshape((self.num_features,num_user))\n",
    "        \n",
    "        theta=np.concatenate((X_t.ravel(),Theta_t.ravel()))        \n",
    "        rs=optimize.minimize(fun=self._costCompute, x0=theta, args=(valid_rate,Y_norm),method='CG',jac=self._gradCompute)\n",
    "        print rs.message\n",
    "        if rs.success:\n",
    "            print \"successful\"\n",
    "            theta_opt=rs.x\n",
    "            self.X_t=theta_opt[:num_prod*self.num_features].reshape((num_prod,self.num_features))\n",
    "            self.Theta_t=theta_opt[num_prod*self.num_features:].reshape((self.num_features,num_user))\n",
    "        return self  \n",
    "    \n",
    "    def predict(self):\n",
    "        return self.X_t.dot(self.Theta_t)+self.Y_mean\n",
    "       \n",
    "    "
   ]
  },
  {
   "cell_type": "markdown",
   "metadata": {},
   "source": [
    "Before we train the recommendation system, we first check if the _gradCompute() function is properly implemented using checkCostFunction(). This function builds a small user-item rating table. The rating values are generated from two low rank tables corresponding to the product and user features, with 3 features. In addition, to mimic the real recommendation system scenario, some of the rating values were eliminated. The function then use the simulted rating and valid_rating table to calculate the gradient of user and product feature parameters by both numerical method and the method based on the first derivatives of cost function versus product and user features.   "
   ]
  },
  {
   "cell_type": "code",
   "execution_count": 202,
   "metadata": {
    "collapsed": true
   },
   "outputs": [],
   "source": [
    "rd=Recommend()"
   ]
  },
  {
   "cell_type": "code",
   "execution_count": 203,
   "metadata": {},
   "outputs": [
    {
     "name": "stdout",
     "output_type": "stream",
     "text": [
      "normalized difference is:  5.13236623668e-24\n"
     ]
    },
    {
     "data": {
      "text/html": [
       "<div>\n",
       "<style>\n",
       "    .dataframe thead tr:only-child th {\n",
       "        text-align: right;\n",
       "    }\n",
       "\n",
       "    .dataframe thead th {\n",
       "        text-align: left;\n",
       "    }\n",
       "\n",
       "    .dataframe tbody tr th {\n",
       "        vertical-align: top;\n",
       "    }\n",
       "</style>\n",
       "<table border=\"1\" class=\"dataframe\">\n",
       "  <thead>\n",
       "    <tr style=\"text-align: right;\">\n",
       "      <th></th>\n",
       "      <th>cal_grad</th>\n",
       "      <th>num_grad</th>\n",
       "    </tr>\n",
       "  </thead>\n",
       "  <tbody>\n",
       "    <tr>\n",
       "      <th>0</th>\n",
       "      <td>1.506427</td>\n",
       "      <td>1.506427</td>\n",
       "    </tr>\n",
       "    <tr>\n",
       "      <th>1</th>\n",
       "      <td>2.066171</td>\n",
       "      <td>2.066171</td>\n",
       "    </tr>\n",
       "    <tr>\n",
       "      <th>2</th>\n",
       "      <td>1.623511</td>\n",
       "      <td>1.623511</td>\n",
       "    </tr>\n",
       "    <tr>\n",
       "      <th>3</th>\n",
       "      <td>2.158853</td>\n",
       "      <td>2.158853</td>\n",
       "    </tr>\n",
       "    <tr>\n",
       "      <th>4</th>\n",
       "      <td>0.903042</td>\n",
       "      <td>0.903042</td>\n",
       "    </tr>\n",
       "    <tr>\n",
       "      <th>5</th>\n",
       "      <td>2.543855</td>\n",
       "      <td>2.543855</td>\n",
       "    </tr>\n",
       "    <tr>\n",
       "      <th>6</th>\n",
       "      <td>0.852476</td>\n",
       "      <td>0.852476</td>\n",
       "    </tr>\n",
       "    <tr>\n",
       "      <th>7</th>\n",
       "      <td>1.657400</td>\n",
       "      <td>1.657400</td>\n",
       "    </tr>\n",
       "    <tr>\n",
       "      <th>8</th>\n",
       "      <td>0.991053</td>\n",
       "      <td>0.991053</td>\n",
       "    </tr>\n",
       "    <tr>\n",
       "      <th>9</th>\n",
       "      <td>1.126821</td>\n",
       "      <td>1.126821</td>\n",
       "    </tr>\n",
       "    <tr>\n",
       "      <th>10</th>\n",
       "      <td>2.835956</td>\n",
       "      <td>2.835956</td>\n",
       "    </tr>\n",
       "    <tr>\n",
       "      <th>11</th>\n",
       "      <td>2.856958</td>\n",
       "      <td>2.856958</td>\n",
       "    </tr>\n",
       "    <tr>\n",
       "      <th>12</th>\n",
       "      <td>0.146237</td>\n",
       "      <td>0.146237</td>\n",
       "    </tr>\n",
       "    <tr>\n",
       "      <th>13</th>\n",
       "      <td>1.229612</td>\n",
       "      <td>1.229612</td>\n",
       "    </tr>\n",
       "    <tr>\n",
       "      <th>14</th>\n",
       "      <td>2.662153</td>\n",
       "      <td>2.662153</td>\n",
       "    </tr>\n",
       "    <tr>\n",
       "      <th>15</th>\n",
       "      <td>2.543832</td>\n",
       "      <td>2.543832</td>\n",
       "    </tr>\n",
       "    <tr>\n",
       "      <th>16</th>\n",
       "      <td>2.509971</td>\n",
       "      <td>2.509971</td>\n",
       "    </tr>\n",
       "    <tr>\n",
       "      <th>17</th>\n",
       "      <td>0.536027</td>\n",
       "      <td>0.536027</td>\n",
       "    </tr>\n",
       "    <tr>\n",
       "      <th>18</th>\n",
       "      <td>2.177978</td>\n",
       "      <td>2.177978</td>\n",
       "    </tr>\n",
       "    <tr>\n",
       "      <th>19</th>\n",
       "      <td>2.142127</td>\n",
       "      <td>2.142127</td>\n",
       "    </tr>\n",
       "    <tr>\n",
       "      <th>20</th>\n",
       "      <td>1.386865</td>\n",
       "      <td>1.386865</td>\n",
       "    </tr>\n",
       "    <tr>\n",
       "      <th>21</th>\n",
       "      <td>2.595222</td>\n",
       "      <td>2.595222</td>\n",
       "    </tr>\n",
       "    <tr>\n",
       "      <th>22</th>\n",
       "      <td>1.556865</td>\n",
       "      <td>1.556865</td>\n",
       "    </tr>\n",
       "    <tr>\n",
       "      <th>23</th>\n",
       "      <td>0.442790</td>\n",
       "      <td>0.442790</td>\n",
       "    </tr>\n",
       "    <tr>\n",
       "      <th>24</th>\n",
       "      <td>2.609008</td>\n",
       "      <td>2.609008</td>\n",
       "    </tr>\n",
       "    <tr>\n",
       "      <th>25</th>\n",
       "      <td>0.368881</td>\n",
       "      <td>0.368881</td>\n",
       "    </tr>\n",
       "    <tr>\n",
       "      <th>26</th>\n",
       "      <td>2.524179</td>\n",
       "      <td>2.524179</td>\n",
       "    </tr>\n",
       "  </tbody>\n",
       "</table>\n",
       "</div>"
      ],
      "text/plain": [
       "    cal_grad  num_grad\n",
       "0   1.506427  1.506427\n",
       "1   2.066171  2.066171\n",
       "2   1.623511  1.623511\n",
       "3   2.158853  2.158853\n",
       "4   0.903042  0.903042\n",
       "5   2.543855  2.543855\n",
       "6   0.852476  0.852476\n",
       "7   1.657400  1.657400\n",
       "8   0.991053  0.991053\n",
       "9   1.126821  1.126821\n",
       "10  2.835956  2.835956\n",
       "11  2.856958  2.856958\n",
       "12  0.146237  0.146237\n",
       "13  1.229612  1.229612\n",
       "14  2.662153  2.662153\n",
       "15  2.543832  2.543832\n",
       "16  2.509971  2.509971\n",
       "17  0.536027  0.536027\n",
       "18  2.177978  2.177978\n",
       "19  2.142127  2.142127\n",
       "20  1.386865  1.386865\n",
       "21  2.595222  2.595222\n",
       "22  1.556865  1.556865\n",
       "23  0.442790  0.442790\n",
       "24  2.609008  2.609008\n",
       "25  0.368881  0.368881\n",
       "26  2.524179  2.524179"
      ]
     },
     "execution_count": 203,
     "metadata": {},
     "output_type": "execute_result"
    }
   ],
   "source": [
    "rd.checkCostFunction(lmd=3)"
   ]
  },
  {
   "cell_type": "markdown",
   "metadata": {},
   "source": [
    "From the comparison of the result of checkCostFunction(), we can see that the normalized difference in the results obtained by the two methods is very small. In addition, comparing the gradient vectors calculated by the two methods shows that the two gradient vectors are very close to each other element-wise. Therefore, we are confident that the gradient function is implemented correctly.\n",
    "\n",
    "In addition, I would like to check if the recommendation system could recommend me movies according to ratings I gave to some movies. The list of my ratings is the following, which contains my ratings to 11 movies: "
   ]
  },
  {
   "cell_type": "code",
   "execution_count": 153,
   "metadata": {},
   "outputs": [
    {
     "name": "stdout",
     "output_type": "stream",
     "text": [
      "rating for  Toy Story (1995) is  4.0 \n",
      "\n",
      "rating for  Twelve Monkeys (1995) is  3.0 \n",
      "\n",
      "rating for  Usual Suspects, The (1995) is  5.0 \n",
      "\n",
      "rating for  Outbreak (1995) is  4.0 \n",
      "\n",
      "rating for  Shawshank Redemption, The (1994) is  5.0 \n",
      "\n",
      "rating for  While You Were Sleeping (1995) is  3.0 \n",
      "\n",
      "rating for  Forrest Gump (1994) is  5.0 \n",
      "\n",
      "rating for  Silence of the Lambs, The (1991) is  2.0 \n",
      "\n",
      "rating for  Alien (1979) is  4.0 \n",
      "\n",
      "rating for  Die Hard 2 (1990) is  5.0 \n",
      "\n",
      "rating for  Sphere (1998) is  5.0 \n",
      "\n"
     ]
    }
   ],
   "source": [
    "#build the myrating list\n",
    "my_ratings=np.zeros(rate_mat.shape[0]).reshape((rate_mat.shape[0],1))\n",
    "my_valid_ratings=np.zeros(rate_mat.shape[0]).reshape((rate_mat.shape[0],1))\n",
    "#test and demonstrate the my_rating list\n",
    "my_ratings[0] = 4\n",
    "my_ratings[97] = 2\n",
    "my_ratings[6] = 3\n",
    "my_ratings[11]= 5\n",
    "my_ratings[53] = 4\n",
    "my_ratings[63]= 5\n",
    "my_ratings[65]= 3\n",
    "my_ratings[68] = 5\n",
    "my_ratings[182] = 4\n",
    "my_ratings[225] = 5\n",
    "my_ratings[354]= 5\n",
    "\n",
    "my_valid_ratings[0]=1\n",
    "my_valid_ratings[97] = 1\n",
    "my_valid_ratings[6] = 1\n",
    "my_valid_ratings[11]= 1\n",
    "my_valid_ratings[53] = 1\n",
    "my_valid_ratings[63]= 1\n",
    "my_valid_ratings[65]= 1\n",
    "my_valid_ratings[68] = 1\n",
    "my_valid_ratings[182] = 1\n",
    "my_valid_ratings[225] = 1\n",
    "my_valid_ratings[354]= 1\n",
    "\n",
    "for i in range(len(my_ratings)):\n",
    "    if (my_ratings[i] > 0):\n",
    "        print \"rating for \",movie_title.loc[i,'title'],\"is \",my_ratings[i,0],\"\\n\" \n",
    "  "
   ]
  },
  {
   "cell_type": "markdown",
   "metadata": {},
   "source": [
    "Now, I will add my ratings to rate_mat table, and update the corresponding column in valid_rate matrix. To make sure I can find my ratings, I will put my rating as the first column in rate_mat table."
   ]
  },
  {
   "cell_type": "code",
   "execution_count": 204,
   "metadata": {
    "collapsed": true
   },
   "outputs": [],
   "source": [
    "rate_mat=np.hstack((my_ratings,rate_mat))\n",
    "valid_rate=np.hstack((my_valid_ratings,valid_rate))"
   ]
  },
  {
   "cell_type": "code",
   "execution_count": 205,
   "metadata": {
    "collapsed": true
   },
   "outputs": [],
   "source": [
    "rd1=Recommend(lmd=10)"
   ]
  },
  {
   "cell_type": "code",
   "execution_count": 157,
   "metadata": {},
   "outputs": [
    {
     "name": "stdout",
     "output_type": "stream",
     "text": [
      "Optimization terminated successfully.\n",
      "successful\n"
     ]
    }
   ],
   "source": [
    "rd1.fit(valid_rate,rate_mat)\n",
    "pred_mat=rd1.predict()"
   ]
  },
  {
   "cell_type": "markdown",
   "metadata": {
    "collapsed": true
   },
   "source": [
    "Now, I will retrieve the first column of the rating table predicted by the recommendation system, which contains ratings of 1682 movies that recommendation system predicted based on the 11 movie ratings I gave before. I will sort the movies according to the predicted ratings by putting high rating movies on the top of the list, and print the top 15 movies that the system recommended to me."
   ]
  },
  {
   "cell_type": "code",
   "execution_count": 181,
   "metadata": {
    "collapsed": true
   },
   "outputs": [],
   "source": [
    "top_movie=np.argsort(pred_mat[:,1])[::-1][:15]"
   ]
  },
  {
   "cell_type": "code",
   "execution_count": 182,
   "metadata": {},
   "outputs": [
    {
     "name": "stdout",
     "output_type": "stream",
     "text": [
      "predicting rating 5 for Star Wars (1977)\n",
      "predicting rating 5 for Empire Strikes Back, The (1980)\n",
      "predicting rating 5 for Return of the Jedi (1983)\n",
      "predicting rating 5 for Monty Python and the Holy Grail (1974)\n",
      "predicting rating 5 for Lawrence of Arabia (1962)\n",
      "predicting rating 5 for Wrong Trousers, The (1993)\n",
      "predicting rating 5 for Fargo (1996)\n",
      "predicting rating 5 for Citizen Kane (1941)\n",
      "predicting rating 5 for Santa with Muscles (1996)\n",
      "predicting rating 5 for Prefontaine (1997)\n",
      "predicting rating 5 for Great Day in Harlem, A (1994)\n",
      "predicting rating 5 for Aiqing wansui (1994)\n",
      "predicting rating 4 for Star Kid (1997)\n",
      "predicting rating 4 for Entertaining Angels: The Dorothy Day Story (1996)\n",
      "predicting rating 4 for Marlene Dietrich: Shadow and Light (1996) \n"
     ]
    }
   ],
   "source": [
    "for idx in top_movie:\n",
    "    rate=my_movie_pred[idx]\n",
    "    title=movie_title.loc[idx,'title']\n",
    "    print 'predicting rating %d for %s' %(rate,title)"
   ]
  },
  {
   "cell_type": "markdown",
   "metadata": {},
   "source": [
    "Now I obtained the top 15 recommended movies!"
   ]
  }
 ],
 "metadata": {
  "kernelspec": {
   "display_name": "Python 2",
   "language": "python",
   "name": "python2"
  },
  "language_info": {
   "codemirror_mode": {
    "name": "ipython",
    "version": 2
   },
   "file_extension": ".py",
   "mimetype": "text/x-python",
   "name": "python",
   "nbconvert_exporter": "python",
   "pygments_lexer": "ipython2",
   "version": "2.7.13"
  }
 },
 "nbformat": 4,
 "nbformat_minor": 2
}
