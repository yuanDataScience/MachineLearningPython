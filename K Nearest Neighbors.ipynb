{
 "cells": [
  {
   "cell_type": "markdown",
   "metadata": {},
   "source": [
    "# K Nearest Neighbors\n",
    "Author: Yuan Huang\n",
    "\n",
    "## Introduction:\n",
    "This notebook implemented K Nearest Neighbors algorithm using numpy and scipy package. The basic idea is to first calculate the distance between each observations in the training dataset and the new observation, and then assign the major votes of the k observations that are closest to the new observation. In this implementation, I used heap to maintain the labels of the k colsest observations to the new observation."
   ]
  },
  {
   "cell_type": "code",
   "execution_count": 64,
   "metadata": {},
   "outputs": [],
   "source": [
    "import numpy as np\n",
    "import scipy as sp\n",
    "from scipy.linalg import norm\n",
    "import heapq\n",
    "import matplotlib.pyplot as plt\n",
    "%matplotlib inline"
   ]
  },
  {
   "cell_type": "code",
   "execution_count": 65,
   "metadata": {},
   "outputs": [],
   "source": [
    "class KNN(object):\n",
    "    \"\"\"\n",
    "    This class applies k-nearest neighbor\n",
    "    Algorithm to classify new observations\n",
    "    The algorithm is implemented using numpy\n",
    "    and scipy\n",
    "    \"\"\"\n",
    "    \n",
    "    def __init__(self, k):\n",
    "        self.k=k\n",
    "        \n",
    "    def predict(self, X, y, new_obs):\n",
    "        \"\"\"\n",
    "        This function fit the training dataset with\n",
    "        feature matrix X and label vector y, and predict\n",
    "        the class of new_obs\n",
    "        \n",
    "        Inputs:\n",
    "          X: featrue matric\n",
    "          y: vector of label/target variable\n",
    "          new_obs: vector of the new variable\n",
    "        \"\"\"\n",
    "        if not isinstance(X,np.ndarray):\n",
    "            X=np.ndarray(X)\n",
    "        h=[]\n",
    "        labels=[]\n",
    "        for i in range(X.shape[0]):\n",
    "            heapq.heappush(h,(norm(X[i]-new_obs),y[i]))\n",
    "        count=self.k\n",
    "        while count>0:\n",
    "            _,label=heapq.heappop(h)\n",
    "            labels.append(label)\n",
    "            count-=1\n",
    "        return max(set(labels),key=labels.count)    \n",
    "    "
   ]
  },
  {
   "cell_type": "markdown",
   "metadata": {},
   "source": [
    "Now, I created 3 clusters. Each cluster was generated from a multivariate normal distribution. I then generated corresponding labels for these clusters. The clusters are labeled as 0, 1, and 2, respectively. Finally, I added a new observation centered at the first cluster coresponding to label zero, as shown by the black dot in the figure."
   ]
  },
  {
   "cell_type": "code",
   "execution_count": 67,
   "metadata": {},
   "outputs": [
    {
     "data": {
      "text/plain": [
       "<matplotlib.collections.PathCollection at 0x7f261cc37b38>"
      ]
     },
     "execution_count": 67,
     "metadata": {},
     "output_type": "execute_result"
    },
    {
     "data": {
      "image/png": "[encoded data removed]",
      "text/plain": [
       "<Figure size 432x288 with 1 Axes>"
      ]
     },
     "metadata": {
      "needs_background": "light"
     },
     "output_type": "display_data"
    }
   ],
   "source": [
    "mean1=[0,0]\n",
    "cov1=[[1,0],[0,1.0]]\n",
    "cluster1 = np.random.multivariate_normal(mean1, cov1, 50)\n",
    "\n",
    "mean2=[3,3]\n",
    "cov2=[[1,0],[0,1.0]]\n",
    "cluster2 = np.random.multivariate_normal(mean2, cov2, 50)\n",
    "\n",
    "mean3=[-3,3]\n",
    "cov3=[[1,0],[0,1.0]]\n",
    "cluster3 = np.random.multivariate_normal(mean3, cov3, 50)\n",
    "\n",
    "total=np.vstack([cluster1,cluster2,cluster3])\n",
    "total_plot_data=np.hsplit(total,2)\n",
    "\n",
    "labels=np.repeat([0,1,2],50)\n",
    "cmap=['r','g','b']\n",
    "\n",
    "new_obs=np.random.multivariate_normal(mean1, cov1, 1)\n",
    "\n",
    "for c in colors:\n",
    "    plt.scatter(total_plot_data[0][colors==c],total_plot_data[1][colors==c],color=cmap[c])\n",
    "plt.scatter(x=new_obs[0][0],y=new_obs[0][1],c='k')    \n",
    "    "
   ]
  },
  {
   "cell_type": "markdown",
   "metadata": {},
   "source": [
    "I then use KNN with k=50 to predict the class of the new observation. The algorithm can correct calssify this new observation belonging to class 0. As shown below, the p"
   ]
  },
  {
   "cell_type": "code",
   "execution_count": 63,
   "metadata": {},
   "outputs": [
    {
     "data": {
      "text/plain": [
       "0"
      ]
     },
     "execution_count": 63,
     "metadata": {},
     "output_type": "execute_result"
    }
   ],
   "source": [
    "knn=KNN(50)\n",
    "knn.predict(total,colors,new_obs)"
   ]
  },
  {
   "cell_type": "markdown",
   "metadata": {},
   "source": [
    "## Conclusions:\n",
    "1. K Nearest Neighbors algorithm was implemented using numpy and scipy package, together with a mini heap to store the labels of the k observations that are nearest to the new observation. The dominant of these k labels was assigned as the class of the new observation\n",
    "2. the KNN alogrithm correctly identified the new observation among the 3 clusters generated by simulations based on multivariate normal distribution"
   ]
  },
  {
   "cell_type": "code",
   "execution_count": null,
   "metadata": {},
   "outputs": [],
   "source": []
  }
 ],
 "metadata": {
  "kernelspec": {
   "display_name": "Python 3",
   "language": "python",
   "name": "python3"
  },
  "language_info": {
   "codemirror_mode": {
    "name": "ipython",
    "version": 3
   },
   "file_extension": ".py",
   "mimetype": "text/x-python",
   "name": "python",
   "nbconvert_exporter": "python",
   "pygments_lexer": "ipython3",
   "version": "3.6.6"
  }
 },
 "nbformat": 4,
 "nbformat_minor": 2
}
